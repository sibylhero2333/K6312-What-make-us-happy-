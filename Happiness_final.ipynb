{
 "cells": [
  {
   "cell_type": "code",
   "execution_count": 1,
   "metadata": {},
   "outputs": [],
   "source": [
    "import numpy as np # linear algebra\n",
    "import pandas as pd # data processing, CSV file I/O (e.g. pd.read_csv)\n",
    "import seaborn as sns #for data visualization\n",
    "import matplotlib.pyplot as plt  #for data visualization\n",
    "import warnings            \n",
    "warnings.filterwarnings(\"ignore\") "
   ]
  },
  {
   "cell_type": "code",
   "execution_count": 2,
   "metadata": {},
   "outputs": [
    {
     "name": "stdout",
     "output_type": "stream",
     "text": [
      "Requirement already satisfied: statsmodels in c:\\users\\bingj\\.conda\\envs\\geo_env\\lib\\site-packages (0.12.2)\n",
      "Requirement already satisfied: pandas>=0.21 in c:\\users\\bingj\\.conda\\envs\\geo_env\\lib\\site-packages (from statsmodels) (1.2.4)\n",
      "Requirement already satisfied: scipy>=1.1 in c:\\users\\bingj\\.conda\\envs\\geo_env\\lib\\site-packages (from statsmodels) (1.6.2)\n",
      "Requirement already satisfied: patsy>=0.5 in c:\\users\\bingj\\.conda\\envs\\geo_env\\lib\\site-packages (from statsmodels) (0.5.1)\n",
      "Requirement already satisfied: numpy>=1.15 in c:\\users\\bingj\\.conda\\envs\\geo_env\\lib\\site-packages (from statsmodels) (1.20.2)\n",
      "Requirement already satisfied: pytz>=2017.3 in c:\\users\\bingj\\.conda\\envs\\geo_env\\lib\\site-packages (from pandas>=0.21->statsmodels) (2021.1)\n",
      "Requirement already satisfied: python-dateutil>=2.7.3 in c:\\users\\bingj\\.conda\\envs\\geo_env\\lib\\site-packages (from pandas>=0.21->statsmodels) (2.8.1)\n",
      "Requirement already satisfied: six in c:\\users\\bingj\\.conda\\envs\\geo_env\\lib\\site-packages (from patsy>=0.5->statsmodels) (1.15.0)\n"
     ]
    }
   ],
   "source": [
    "!pip install statsmodels "
   ]
  },
  {
   "cell_type": "code",
   "execution_count": 3,
   "metadata": {},
   "outputs": [],
   "source": [
    "import statsmodels.api as sm\n",
    "from scipy import stats"
   ]
  },
  {
   "cell_type": "code",
   "execution_count": 4,
   "metadata": {},
   "outputs": [
    {
     "name": "stdout",
     "output_type": "stream",
     "text": [
      "Requirement already satisfied: sklearn in c:\\users\\bingj\\.conda\\envs\\geo_env\\lib\\site-packages (0.0)\n",
      "Requirement already satisfied: scikit-learn in c:\\users\\bingj\\.conda\\envs\\geo_env\\lib\\site-packages (from sklearn) (0.24.1)\n",
      "Requirement already satisfied: threadpoolctl>=2.0.0 in c:\\users\\bingj\\.conda\\envs\\geo_env\\lib\\site-packages (from scikit-learn->sklearn) (2.1.0)\n",
      "Requirement already satisfied: scipy>=0.19.1 in c:\\users\\bingj\\.conda\\envs\\geo_env\\lib\\site-packages (from scikit-learn->sklearn) (1.6.2)\n",
      "Requirement already satisfied: joblib>=0.11 in c:\\users\\bingj\\.conda\\envs\\geo_env\\lib\\site-packages (from scikit-learn->sklearn) (1.0.1)\n",
      "Requirement already satisfied: numpy>=1.13.3 in c:\\users\\bingj\\.conda\\envs\\geo_env\\lib\\site-packages (from scikit-learn->sklearn) (1.20.2)\n"
     ]
    }
   ],
   "source": [
    "import time                   # To time processes\n",
    "import warnings               # To suppress warnings\n",
    "\n",
    "import numpy as np            # Data manipulation\n",
    "import pandas as pd           # Dataframe manipulatio \n",
    "import matplotlib.pyplot as plt                   # For graphics\n",
    "!pip install sklearn\n",
    "import sklearn"
   ]
  },
  {
   "cell_type": "code",
   "execution_count": 5,
   "metadata": {},
   "outputs": [
    {
     "data": {
      "text/html": [
       "        <script type=\"text/javascript\">\n",
       "        window.PlotlyConfig = {MathJaxConfig: 'local'};\n",
       "        if (window.MathJax) {MathJax.Hub.Config({SVG: {font: \"STIX-Web\"}});}\n",
       "        if (typeof require !== 'undefined') {\n",
       "        require.undef(\"plotly\");\n",
       "        requirejs.config({\n",
       "            paths: {\n",
       "                'plotly': ['https://cdn.plot.ly/plotly-latest.min']\n",
       "            }\n",
       "        });\n",
       "        require(['plotly'], function(Plotly) {\n",
       "            window._Plotly = Plotly;\n",
       "        });\n",
       "        }\n",
       "        </script>\n",
       "        "
      ]
     },
     "metadata": {},
     "output_type": "display_data"
    }
   ],
   "source": [
    "\n",
    "import seaborn as sns\n",
    "import chart_studio.plotly as py #For World Map\n",
    "import plotly.graph_objs as go\n",
    "from plotly.offline import download_plotlyjs, init_notebook_mode, plot, iplot\n",
    "init_notebook_mode(connected=True)"
   ]
  },
  {
   "cell_type": "code",
   "execution_count": 8,
   "metadata": {},
   "outputs": [
    {
     "name": "stdout",
     "output_type": "stream",
     "text": [
      "Requirement already satisfied: notebook>=5.3 in c:\\users\\bingj\\.conda\\envs\\geo_env\\lib\\site-packages (6.3.0)\n",
      "Requirement already satisfied: ipywidgets>=7.5 in c:\\users\\bingj\\.conda\\envs\\geo_env\\lib\\site-packages (7.6.3)\n",
      "Requirement already satisfied: widgetsnbextension~=3.5.0 in c:\\users\\bingj\\.conda\\envs\\geo_env\\lib\\site-packages (from ipywidgets>=7.5) (3.5.1)\n",
      "Requirement already satisfied: traitlets>=4.3.1 in c:\\users\\bingj\\.conda\\envs\\geo_env\\lib\\site-packages (from ipywidgets>=7.5) (5.0.5)\n",
      "Requirement already satisfied: ipython>=4.0.0 in c:\\users\\bingj\\.conda\\envs\\geo_env\\lib\\site-packages (from ipywidgets>=7.5) (7.22.0)\n",
      "Requirement already satisfied: nbformat>=4.2.0 in c:\\users\\bingj\\.conda\\envs\\geo_env\\lib\\site-packages (from ipywidgets>=7.5) (5.1.3)\n",
      "Requirement already satisfied: jupyterlab-widgets>=1.0.0 in c:\\users\\bingj\\.conda\\envs\\geo_env\\lib\\site-packages (from ipywidgets>=7.5) (1.0.0)\n",
      "Requirement already satisfied: ipykernel>=4.5.1 in c:\\users\\bingj\\.conda\\envs\\geo_env\\lib\\site-packages (from ipywidgets>=7.5) (5.5.3)\n",
      "Requirement already satisfied: jinja2 in c:\\users\\bingj\\.conda\\envs\\geo_env\\lib\\site-packages (from notebook>=5.3) (2.11.3)\n",
      "Requirement already satisfied: jupyter-client>=5.3.4 in c:\\users\\bingj\\.conda\\envs\\geo_env\\lib\\site-packages (from notebook>=5.3) (6.1.12)\n",
      "Requirement already satisfied: pyzmq>=17 in c:\\users\\bingj\\.conda\\envs\\geo_env\\lib\\site-packages (from notebook>=5.3) (22.0.3)\n",
      "Requirement already satisfied: tornado>=6.1 in c:\\users\\bingj\\.conda\\envs\\geo_env\\lib\\site-packages (from notebook>=5.3) (6.1)\n",
      "Requirement already satisfied: ipython-genutils in c:\\users\\bingj\\.conda\\envs\\geo_env\\lib\\site-packages (from notebook>=5.3) (0.2.0)\n",
      "Requirement already satisfied: argon2-cffi in c:\\users\\bingj\\.conda\\envs\\geo_env\\lib\\site-packages (from notebook>=5.3) (20.1.0)\n",
      "Requirement already satisfied: nbconvert in c:\\users\\bingj\\.conda\\envs\\geo_env\\lib\\site-packages (from notebook>=5.3) (6.0.7)\n",
      "Requirement already satisfied: Send2Trash>=1.5.0 in c:\\users\\bingj\\.conda\\envs\\geo_env\\lib\\site-packages (from notebook>=5.3) (1.5.0)\n",
      "Requirement already satisfied: prometheus-client in c:\\users\\bingj\\.conda\\envs\\geo_env\\lib\\site-packages (from notebook>=5.3) (0.10.1)\n",
      "Requirement already satisfied: jupyter-core>=4.6.1 in c:\\users\\bingj\\.conda\\envs\\geo_env\\lib\\site-packages (from notebook>=5.3) (4.7.1)\n",
      "Requirement already satisfied: terminado>=0.8.3 in c:\\users\\bingj\\.conda\\envs\\geo_env\\lib\\site-packages (from notebook>=5.3) (0.9.4)\n",
      "Requirement already satisfied: backcall in c:\\users\\bingj\\.conda\\envs\\geo_env\\lib\\site-packages (from ipython>=4.0.0->ipywidgets>=7.5) (0.2.0)\n",
      "Requirement already satisfied: pickleshare in c:\\users\\bingj\\.conda\\envs\\geo_env\\lib\\site-packages (from ipython>=4.0.0->ipywidgets>=7.5) (0.7.5)\n",
      "Requirement already satisfied: decorator in c:\\users\\bingj\\.conda\\envs\\geo_env\\lib\\site-packages (from ipython>=4.0.0->ipywidgets>=7.5) (5.0.7)\n",
      "Requirement already satisfied: setuptools>=18.5 in c:\\users\\bingj\\.conda\\envs\\geo_env\\lib\\site-packages (from ipython>=4.0.0->ipywidgets>=7.5) (49.6.0.post20210108)\n",
      "Requirement already satisfied: pygments in c:\\users\\bingj\\.conda\\envs\\geo_env\\lib\\site-packages (from ipython>=4.0.0->ipywidgets>=7.5) (2.8.1)\n",
      "Requirement already satisfied: jedi>=0.16 in c:\\users\\bingj\\.conda\\envs\\geo_env\\lib\\site-packages (from ipython>=4.0.0->ipywidgets>=7.5) (0.18.0)\n",
      "Requirement already satisfied: colorama in c:\\users\\bingj\\.conda\\envs\\geo_env\\lib\\site-packages (from ipython>=4.0.0->ipywidgets>=7.5) (0.4.4)\n",
      "Requirement already satisfied: prompt-toolkit!=3.0.0,!=3.0.1,<3.1.0,>=2.0.0 in c:\\users\\bingj\\.conda\\envs\\geo_env\\lib\\site-packages (from ipython>=4.0.0->ipywidgets>=7.5) (3.0.18)\n",
      "Requirement already satisfied: parso<0.9.0,>=0.8.0 in c:\\users\\bingj\\.conda\\envs\\geo_env\\lib\\site-packages (from jedi>=0.16->ipython>=4.0.0->ipywidgets>=7.5) (0.8.2)\n",
      "Requirement already satisfied: python-dateutil>=2.1 in c:\\users\\bingj\\.conda\\envs\\geo_env\\lib\\site-packages (from jupyter-client>=5.3.4->notebook>=5.3) (2.8.1)\n",
      "Requirement already satisfied: pywin32>=1.0 in c:\\users\\bingj\\.conda\\envs\\geo_env\\lib\\site-packages (from jupyter-core>=4.6.1->notebook>=5.3) (300)\n",
      "Requirement already satisfied: jsonschema!=2.5.0,>=2.4 in c:\\users\\bingj\\.conda\\envs\\geo_env\\lib\\site-packages (from nbformat>=4.2.0->ipywidgets>=7.5) (3.2.0)\n",
      "Requirement already satisfied: pyrsistent>=0.14.0 in c:\\users\\bingj\\.conda\\envs\\geo_env\\lib\\site-packages (from jsonschema!=2.5.0,>=2.4->nbformat>=4.2.0->ipywidgets>=7.5) (0.17.3)\n",
      "Requirement already satisfied: six>=1.11.0 in c:\\users\\bingj\\.conda\\envs\\geo_env\\lib\\site-packages (from jsonschema!=2.5.0,>=2.4->nbformat>=4.2.0->ipywidgets>=7.5) (1.15.0)\n",
      "Requirement already satisfied: attrs>=17.4.0 in c:\\users\\bingj\\.conda\\envs\\geo_env\\lib\\site-packages (from jsonschema!=2.5.0,>=2.4->nbformat>=4.2.0->ipywidgets>=7.5) (20.3.0)\n",
      "Requirement already satisfied: wcwidth in c:\\users\\bingj\\.conda\\envs\\geo_env\\lib\\site-packages (from prompt-toolkit!=3.0.0,!=3.0.1,<3.1.0,>=2.0.0->ipython>=4.0.0->ipywidgets>=7.5) (0.2.5)\n",
      "Requirement already satisfied: pywinpty>=0.5 in c:\\users\\bingj\\.conda\\envs\\geo_env\\lib\\site-packages (from terminado>=0.8.3->notebook>=5.3) (0.5.7)\n",
      "Requirement already satisfied: cffi>=1.0.0 in c:\\users\\bingj\\.conda\\envs\\geo_env\\lib\\site-packages (from argon2-cffi->notebook>=5.3) (1.14.5)\n",
      "Requirement already satisfied: pycparser in c:\\users\\bingj\\.conda\\envs\\geo_env\\lib\\site-packages (from cffi>=1.0.0->argon2-cffi->notebook>=5.3) (2.20)\n",
      "Requirement already satisfied: MarkupSafe>=0.23 in c:\\users\\bingj\\.conda\\envs\\geo_env\\lib\\site-packages (from jinja2->notebook>=5.3) (1.1.1)\n",
      "Note: you may need to restart the kernel to use updated packages.\n",
      "Requirement already satisfied: mistune<2,>=0.8.1 in c:\\users\\bingj\\.conda\\envs\\geo_env\\lib\\site-packages (from nbconvert->notebook>=5.3) (0.8.4)\n",
      "Requirement already satisfied: entrypoints>=0.2.2 in c:\\users\\bingj\\.conda\\envs\\geo_env\\lib\\site-packages (from nbconvert->notebook>=5.3) (0.3)\n",
      "Requirement already satisfied: nbclient<0.6.0,>=0.5.0 in c:\\users\\bingj\\.conda\\envs\\geo_env\\lib\\site-packages (from nbconvert->notebook>=5.3) (0.5.3)\n",
      "Requirement already satisfied: defusedxml in c:\\users\\bingj\\.conda\\envs\\geo_env\\lib\\site-packages (from nbconvert->notebook>=5.3) (0.7.1)\n",
      "Requirement already satisfied: jupyterlab-pygments in c:\\users\\bingj\\.conda\\envs\\geo_env\\lib\\site-packages (from nbconvert->notebook>=5.3) (0.1.2)\n",
      "Requirement already satisfied: testpath in c:\\users\\bingj\\.conda\\envs\\geo_env\\lib\\site-packages (from nbconvert->notebook>=5.3) (0.4.4)\n",
      "Requirement already satisfied: bleach in c:\\users\\bingj\\.conda\\envs\\geo_env\\lib\\site-packages (from nbconvert->notebook>=5.3) (3.3.0)\n",
      "Requirement already satisfied: pandocfilters>=1.4.1 in c:\\users\\bingj\\.conda\\envs\\geo_env\\lib\\site-packages (from nbconvert->notebook>=5.3) (1.4.2)\n",
      "Requirement already satisfied: nest-asyncio in c:\\users\\bingj\\.conda\\envs\\geo_env\\lib\\site-packages (from nbclient<0.6.0,>=0.5.0->nbconvert->notebook>=5.3) (1.5.1)\n",
      "Requirement already satisfied: async-generator in c:\\users\\bingj\\.conda\\envs\\geo_env\\lib\\site-packages (from nbclient<0.6.0,>=0.5.0->nbconvert->notebook>=5.3) (1.10)\n",
      "Requirement already satisfied: webencodings in c:\\users\\bingj\\.conda\\envs\\geo_env\\lib\\site-packages (from bleach->nbconvert->notebook>=5.3) (0.5.1)\n",
      "Requirement already satisfied: packaging in c:\\users\\bingj\\.conda\\envs\\geo_env\\lib\\site-packages (from bleach->nbconvert->notebook>=5.3) (20.9)\n",
      "Requirement already satisfied: pyparsing>=2.0.2 in c:\\users\\bingj\\.conda\\envs\\geo_env\\lib\\site-packages (from packaging->bleach->nbconvert->notebook>=5.3) (2.4.7)\n"
     ]
    }
   ],
   "source": [
    "pip install \"notebook>=5.3\" \"ipywidgets>=7.5\""
   ]
  },
  {
   "cell_type": "code",
   "execution_count": 9,
   "metadata": {},
   "outputs": [
    {
     "name": "stdout",
     "output_type": "stream",
     "text": [
      "Requirement already satisfied: chart_studio in c:\\users\\bingj\\.conda\\envs\\geo_env\\lib\\site-packages (1.1.0)\n",
      "Requirement already satisfied: plotly in c:\\users\\bingj\\.conda\\envs\\geo_env\\lib\\site-packages (from chart_studio) (4.14.3)\n",
      "Requirement already satisfied: retrying>=1.3.3 in c:\\users\\bingj\\.conda\\envs\\geo_env\\lib\\site-packages (from chart_studio) (1.3.3)\n",
      "Requirement already satisfied: six in c:\\users\\bingj\\.conda\\envs\\geo_env\\lib\\site-packages (from chart_studio) (1.15.0)\n",
      "Requirement already satisfied: requests in c:\\users\\bingj\\.conda\\envs\\geo_env\\lib\\site-packages (from chart_studio) (2.25.1)\n",
      "Requirement already satisfied: urllib3<1.27,>=1.21.1 in c:\\users\\bingj\\.conda\\envs\\geo_env\\lib\\site-packages (from requests->chart_studio) (1.26.4)\n",
      "Requirement already satisfied: certifi>=2017.4.17 in c:\\users\\bingj\\.conda\\envs\\geo_env\\lib\\site-packages (from requests->chart_studio) (2020.12.5)\n",
      "Requirement already satisfied: idna<3,>=2.5 in c:\\users\\bingj\\.conda\\envs\\geo_env\\lib\\site-packages (from requests->chart_studio) (2.10)\n",
      "Requirement already satisfied: chardet<5,>=3.0.2 in c:\\users\\bingj\\.conda\\envs\\geo_env\\lib\\site-packages (from requests->chart_studio) (4.0.0)\n",
      "Note: you may need to restart the kernel to use updated packages.\n"
     ]
    }
   ],
   "source": [
    "pip install chart_studio"
   ]
  },
  {
   "cell_type": "markdown",
   "metadata": {},
   "source": [
    "Data Preparation"
   ]
  },
  {
   "cell_type": "code",
   "execution_count": 10,
   "metadata": {},
   "outputs": [],
   "source": [
    "#load data from csv file\n",
    "data_panel2021=pd.read_csv('DataPanelWHR2021C2.csv')\n",
    "data_2021=pd.read_csv('DataForFigure2.1WHR2021C2.csv')"
   ]
  },
  {
   "cell_type": "code",
   "execution_count": 11,
   "metadata": {},
   "outputs": [],
   "source": [
    "#columns name change\n",
    "data_panel2021.rename(columns={'Country name':'Country'}, inplace = True)\n",
    "data_2021.rename(columns={'Country name':'Country'}, inplace = True)\n",
    "data_2021.rename(columns={'Regional indicator':'Region'}, inplace = True)"
   ]
  },
  {
   "cell_type": "code",
   "execution_count": 12,
   "metadata": {},
   "outputs": [
    {
     "data": {
      "text/html": [
       "<div>\n",
       "<style scoped>\n",
       "    .dataframe tbody tr th:only-of-type {\n",
       "        vertical-align: middle;\n",
       "    }\n",
       "\n",
       "    .dataframe tbody tr th {\n",
       "        vertical-align: top;\n",
       "    }\n",
       "\n",
       "    .dataframe thead th {\n",
       "        text-align: right;\n",
       "    }\n",
       "</style>\n",
       "<table border=\"1\" class=\"dataframe\">\n",
       "  <thead>\n",
       "    <tr style=\"text-align: right;\">\n",
       "      <th></th>\n",
       "      <th>Country</th>\n",
       "      <th>Region</th>\n",
       "      <th>year</th>\n",
       "      <th>Life_Ladder_Score</th>\n",
       "      <th>Log_GDP_per_capita</th>\n",
       "      <th>Social_support</th>\n",
       "      <th>Healthy_life_expectancy</th>\n",
       "      <th>Freedom_to_make_life_choices</th>\n",
       "      <th>Generosity</th>\n",
       "      <th>Perceptions_of_corruption</th>\n",
       "    </tr>\n",
       "  </thead>\n",
       "  <tbody>\n",
       "    <tr>\n",
       "      <th>0</th>\n",
       "      <td>Afghanistan</td>\n",
       "      <td>South Asia</td>\n",
       "      <td>2008</td>\n",
       "      <td>3.724</td>\n",
       "      <td>7.370</td>\n",
       "      <td>0.451</td>\n",
       "      <td>50.80</td>\n",
       "      <td>0.718</td>\n",
       "      <td>0.168</td>\n",
       "      <td>0.882</td>\n",
       "    </tr>\n",
       "    <tr>\n",
       "      <th>1</th>\n",
       "      <td>Afghanistan</td>\n",
       "      <td>South Asia</td>\n",
       "      <td>2009</td>\n",
       "      <td>4.402</td>\n",
       "      <td>7.540</td>\n",
       "      <td>0.552</td>\n",
       "      <td>51.20</td>\n",
       "      <td>0.679</td>\n",
       "      <td>0.190</td>\n",
       "      <td>0.850</td>\n",
       "    </tr>\n",
       "    <tr>\n",
       "      <th>2</th>\n",
       "      <td>Afghanistan</td>\n",
       "      <td>South Asia</td>\n",
       "      <td>2010</td>\n",
       "      <td>4.758</td>\n",
       "      <td>7.647</td>\n",
       "      <td>0.539</td>\n",
       "      <td>51.60</td>\n",
       "      <td>0.600</td>\n",
       "      <td>0.121</td>\n",
       "      <td>0.707</td>\n",
       "    </tr>\n",
       "    <tr>\n",
       "      <th>3</th>\n",
       "      <td>Afghanistan</td>\n",
       "      <td>South Asia</td>\n",
       "      <td>2011</td>\n",
       "      <td>3.832</td>\n",
       "      <td>7.620</td>\n",
       "      <td>0.521</td>\n",
       "      <td>51.92</td>\n",
       "      <td>0.496</td>\n",
       "      <td>0.162</td>\n",
       "      <td>0.731</td>\n",
       "    </tr>\n",
       "    <tr>\n",
       "      <th>4</th>\n",
       "      <td>Afghanistan</td>\n",
       "      <td>South Asia</td>\n",
       "      <td>2012</td>\n",
       "      <td>3.783</td>\n",
       "      <td>7.705</td>\n",
       "      <td>0.521</td>\n",
       "      <td>52.24</td>\n",
       "      <td>0.531</td>\n",
       "      <td>0.236</td>\n",
       "      <td>0.776</td>\n",
       "    </tr>\n",
       "  </tbody>\n",
       "</table>\n",
       "</div>"
      ],
      "text/plain": [
       "       Country      Region  year  Life_Ladder_Score  Log_GDP_per_capita  \\\n",
       "0  Afghanistan  South Asia  2008              3.724               7.370   \n",
       "1  Afghanistan  South Asia  2009              4.402               7.540   \n",
       "2  Afghanistan  South Asia  2010              4.758               7.647   \n",
       "3  Afghanistan  South Asia  2011              3.832               7.620   \n",
       "4  Afghanistan  South Asia  2012              3.783               7.705   \n",
       "\n",
       "   Social_support  Healthy_life_expectancy  Freedom_to_make_life_choices  \\\n",
       "0           0.451                    50.80                         0.718   \n",
       "1           0.552                    51.20                         0.679   \n",
       "2           0.539                    51.60                         0.600   \n",
       "3           0.521                    51.92                         0.496   \n",
       "4           0.521                    52.24                         0.531   \n",
       "\n",
       "   Generosity  Perceptions_of_corruption  \n",
       "0       0.168                      0.882  \n",
       "1       0.190                      0.850  \n",
       "2       0.121                      0.707  \n",
       "3       0.162                      0.731  \n",
       "4       0.236                      0.776  "
      ]
     },
     "execution_count": 12,
     "metadata": {},
     "output_type": "execute_result"
    }
   ],
   "source": [
    "data_panel2021.head()"
   ]
  },
  {
   "cell_type": "code",
   "execution_count": 13,
   "metadata": {},
   "outputs": [
    {
     "name": "stdout",
     "output_type": "stream",
     "text": [
      "<class 'pandas.core.frame.DataFrame'>\n",
      "RangeIndex: 2098 entries, 0 to 2097\n",
      "Data columns (total 10 columns):\n",
      " #   Column                        Non-Null Count  Dtype  \n",
      "---  ------                        --------------  -----  \n",
      " 0   Country                       2098 non-null   object \n",
      " 1   Region                        2098 non-null   object \n",
      " 2   year                          2098 non-null   int64  \n",
      " 3   Life_Ladder_Score             2098 non-null   float64\n",
      " 4   Log_GDP_per_capita            2062 non-null   float64\n",
      " 5   Social_support                2085 non-null   float64\n",
      " 6   Healthy_life_expectancy       2043 non-null   float64\n",
      " 7   Freedom_to_make_life_choices  2066 non-null   float64\n",
      " 8   Generosity                    2009 non-null   float64\n",
      " 9   Perceptions_of_corruption     1988 non-null   float64\n",
      "dtypes: float64(7), int64(1), object(2)\n",
      "memory usage: 164.0+ KB\n"
     ]
    }
   ],
   "source": [
    "data_panel2021.info()"
   ]
  },
  {
   "cell_type": "code",
   "execution_count": 14,
   "metadata": {},
   "outputs": [
    {
     "data": {
      "text/html": [
       "<div>\n",
       "<style scoped>\n",
       "    .dataframe tbody tr th:only-of-type {\n",
       "        vertical-align: middle;\n",
       "    }\n",
       "\n",
       "    .dataframe tbody tr th {\n",
       "        vertical-align: top;\n",
       "    }\n",
       "\n",
       "    .dataframe thead th {\n",
       "        text-align: right;\n",
       "    }\n",
       "</style>\n",
       "<table border=\"1\" class=\"dataframe\">\n",
       "  <thead>\n",
       "    <tr style=\"text-align: right;\">\n",
       "      <th></th>\n",
       "      <th>Country</th>\n",
       "      <th>Region</th>\n",
       "      <th>Ladder score</th>\n",
       "      <th>Logged GDP per capita</th>\n",
       "      <th>Social support</th>\n",
       "      <th>Healthy life expectancy</th>\n",
       "      <th>Freedom to make life choices</th>\n",
       "      <th>Generosity</th>\n",
       "      <th>Perceptions of corruption</th>\n",
       "    </tr>\n",
       "  </thead>\n",
       "  <tbody>\n",
       "    <tr>\n",
       "      <th>0</th>\n",
       "      <td>Finland</td>\n",
       "      <td>Western Europe</td>\n",
       "      <td>7.842</td>\n",
       "      <td>10.775</td>\n",
       "      <td>0.954</td>\n",
       "      <td>72.0</td>\n",
       "      <td>0.949</td>\n",
       "      <td>-0.098</td>\n",
       "      <td>0.186</td>\n",
       "    </tr>\n",
       "    <tr>\n",
       "      <th>1</th>\n",
       "      <td>Denmark</td>\n",
       "      <td>Western Europe</td>\n",
       "      <td>7.620</td>\n",
       "      <td>10.933</td>\n",
       "      <td>0.954</td>\n",
       "      <td>72.7</td>\n",
       "      <td>0.946</td>\n",
       "      <td>0.030</td>\n",
       "      <td>0.179</td>\n",
       "    </tr>\n",
       "    <tr>\n",
       "      <th>2</th>\n",
       "      <td>Switzerland</td>\n",
       "      <td>Western Europe</td>\n",
       "      <td>7.571</td>\n",
       "      <td>11.117</td>\n",
       "      <td>0.942</td>\n",
       "      <td>74.4</td>\n",
       "      <td>0.919</td>\n",
       "      <td>0.025</td>\n",
       "      <td>0.292</td>\n",
       "    </tr>\n",
       "    <tr>\n",
       "      <th>3</th>\n",
       "      <td>Iceland</td>\n",
       "      <td>Western Europe</td>\n",
       "      <td>7.554</td>\n",
       "      <td>10.878</td>\n",
       "      <td>0.983</td>\n",
       "      <td>73.0</td>\n",
       "      <td>0.955</td>\n",
       "      <td>0.160</td>\n",
       "      <td>0.673</td>\n",
       "    </tr>\n",
       "    <tr>\n",
       "      <th>4</th>\n",
       "      <td>Netherlands</td>\n",
       "      <td>Western Europe</td>\n",
       "      <td>7.464</td>\n",
       "      <td>10.932</td>\n",
       "      <td>0.942</td>\n",
       "      <td>72.4</td>\n",
       "      <td>0.913</td>\n",
       "      <td>0.175</td>\n",
       "      <td>0.338</td>\n",
       "    </tr>\n",
       "  </tbody>\n",
       "</table>\n",
       "</div>"
      ],
      "text/plain": [
       "       Country          Region  Ladder score  Logged GDP per capita  \\\n",
       "0      Finland  Western Europe         7.842                 10.775   \n",
       "1      Denmark  Western Europe         7.620                 10.933   \n",
       "2  Switzerland  Western Europe         7.571                 11.117   \n",
       "3      Iceland  Western Europe         7.554                 10.878   \n",
       "4  Netherlands  Western Europe         7.464                 10.932   \n",
       "\n",
       "   Social support  Healthy life expectancy  Freedom to make life choices  \\\n",
       "0           0.954                     72.0                         0.949   \n",
       "1           0.954                     72.7                         0.946   \n",
       "2           0.942                     74.4                         0.919   \n",
       "3           0.983                     73.0                         0.955   \n",
       "4           0.942                     72.4                         0.913   \n",
       "\n",
       "   Generosity  Perceptions of corruption  \n",
       "0      -0.098                      0.186  \n",
       "1       0.030                      0.179  \n",
       "2       0.025                      0.292  \n",
       "3       0.160                      0.673  \n",
       "4       0.175                      0.338  "
      ]
     },
     "execution_count": 14,
     "metadata": {},
     "output_type": "execute_result"
    }
   ],
   "source": [
    "data_2021.head()"
   ]
  },
  {
   "cell_type": "code",
   "execution_count": 15,
   "metadata": {},
   "outputs": [
    {
     "data": {
      "text/html": [
       "<div>\n",
       "<style scoped>\n",
       "    .dataframe tbody tr th:only-of-type {\n",
       "        vertical-align: middle;\n",
       "    }\n",
       "\n",
       "    .dataframe tbody tr th {\n",
       "        vertical-align: top;\n",
       "    }\n",
       "\n",
       "    .dataframe thead th {\n",
       "        text-align: right;\n",
       "    }\n",
       "</style>\n",
       "<table border=\"1\" class=\"dataframe\">\n",
       "  <thead>\n",
       "    <tr style=\"text-align: right;\">\n",
       "      <th></th>\n",
       "      <th>Country</th>\n",
       "      <th>Region</th>\n",
       "      <th>year</th>\n",
       "      <th>Life_Ladder_Score</th>\n",
       "      <th>Log_GDP_per_capita</th>\n",
       "      <th>Social_support</th>\n",
       "      <th>Healthy_life_expectancy</th>\n",
       "      <th>Freedom_to_make_life_choices</th>\n",
       "      <th>Generosity</th>\n",
       "      <th>Perceptions_of_corruption</th>\n",
       "    </tr>\n",
       "  </thead>\n",
       "  <tbody>\n",
       "    <tr>\n",
       "      <th>367</th>\n",
       "      <td>China</td>\n",
       "      <td>East Asia</td>\n",
       "      <td>2006</td>\n",
       "      <td>4.560</td>\n",
       "      <td>8.696</td>\n",
       "      <td>0.747</td>\n",
       "      <td>66.880</td>\n",
       "      <td>NaN</td>\n",
       "      <td>NaN</td>\n",
       "      <td>NaN</td>\n",
       "    </tr>\n",
       "    <tr>\n",
       "      <th>368</th>\n",
       "      <td>China</td>\n",
       "      <td>East Asia</td>\n",
       "      <td>2007</td>\n",
       "      <td>4.863</td>\n",
       "      <td>8.824</td>\n",
       "      <td>0.811</td>\n",
       "      <td>67.060</td>\n",
       "      <td>NaN</td>\n",
       "      <td>-0.176</td>\n",
       "      <td>NaN</td>\n",
       "    </tr>\n",
       "    <tr>\n",
       "      <th>369</th>\n",
       "      <td>China</td>\n",
       "      <td>East Asia</td>\n",
       "      <td>2008</td>\n",
       "      <td>4.846</td>\n",
       "      <td>8.911</td>\n",
       "      <td>0.748</td>\n",
       "      <td>67.240</td>\n",
       "      <td>0.853</td>\n",
       "      <td>-0.092</td>\n",
       "      <td>NaN</td>\n",
       "    </tr>\n",
       "    <tr>\n",
       "      <th>370</th>\n",
       "      <td>China</td>\n",
       "      <td>East Asia</td>\n",
       "      <td>2009</td>\n",
       "      <td>4.454</td>\n",
       "      <td>8.996</td>\n",
       "      <td>0.798</td>\n",
       "      <td>67.420</td>\n",
       "      <td>0.771</td>\n",
       "      <td>-0.160</td>\n",
       "      <td>NaN</td>\n",
       "    </tr>\n",
       "    <tr>\n",
       "      <th>371</th>\n",
       "      <td>China</td>\n",
       "      <td>East Asia</td>\n",
       "      <td>2010</td>\n",
       "      <td>4.653</td>\n",
       "      <td>9.092</td>\n",
       "      <td>0.768</td>\n",
       "      <td>67.600</td>\n",
       "      <td>0.805</td>\n",
       "      <td>-0.133</td>\n",
       "      <td>NaN</td>\n",
       "    </tr>\n",
       "    <tr>\n",
       "      <th>372</th>\n",
       "      <td>China</td>\n",
       "      <td>East Asia</td>\n",
       "      <td>2011</td>\n",
       "      <td>5.037</td>\n",
       "      <td>9.179</td>\n",
       "      <td>0.787</td>\n",
       "      <td>67.760</td>\n",
       "      <td>0.824</td>\n",
       "      <td>-0.186</td>\n",
       "      <td>NaN</td>\n",
       "    </tr>\n",
       "    <tr>\n",
       "      <th>373</th>\n",
       "      <td>China</td>\n",
       "      <td>East Asia</td>\n",
       "      <td>2012</td>\n",
       "      <td>5.095</td>\n",
       "      <td>9.249</td>\n",
       "      <td>0.788</td>\n",
       "      <td>67.920</td>\n",
       "      <td>0.808</td>\n",
       "      <td>-0.185</td>\n",
       "      <td>NaN</td>\n",
       "    </tr>\n",
       "    <tr>\n",
       "      <th>374</th>\n",
       "      <td>China</td>\n",
       "      <td>East Asia</td>\n",
       "      <td>2013</td>\n",
       "      <td>5.241</td>\n",
       "      <td>9.319</td>\n",
       "      <td>0.778</td>\n",
       "      <td>68.080</td>\n",
       "      <td>0.805</td>\n",
       "      <td>-0.158</td>\n",
       "      <td>NaN</td>\n",
       "    </tr>\n",
       "    <tr>\n",
       "      <th>375</th>\n",
       "      <td>China</td>\n",
       "      <td>East Asia</td>\n",
       "      <td>2014</td>\n",
       "      <td>5.196</td>\n",
       "      <td>9.386</td>\n",
       "      <td>0.820</td>\n",
       "      <td>68.240</td>\n",
       "      <td>NaN</td>\n",
       "      <td>-0.217</td>\n",
       "      <td>NaN</td>\n",
       "    </tr>\n",
       "    <tr>\n",
       "      <th>376</th>\n",
       "      <td>China</td>\n",
       "      <td>East Asia</td>\n",
       "      <td>2015</td>\n",
       "      <td>5.304</td>\n",
       "      <td>9.449</td>\n",
       "      <td>0.794</td>\n",
       "      <td>68.400</td>\n",
       "      <td>NaN</td>\n",
       "      <td>-0.244</td>\n",
       "      <td>NaN</td>\n",
       "    </tr>\n",
       "    <tr>\n",
       "      <th>377</th>\n",
       "      <td>China</td>\n",
       "      <td>East Asia</td>\n",
       "      <td>2016</td>\n",
       "      <td>5.325</td>\n",
       "      <td>9.510</td>\n",
       "      <td>0.742</td>\n",
       "      <td>68.700</td>\n",
       "      <td>NaN</td>\n",
       "      <td>-0.228</td>\n",
       "      <td>NaN</td>\n",
       "    </tr>\n",
       "    <tr>\n",
       "      <th>378</th>\n",
       "      <td>China</td>\n",
       "      <td>East Asia</td>\n",
       "      <td>2017</td>\n",
       "      <td>5.099</td>\n",
       "      <td>9.571</td>\n",
       "      <td>0.772</td>\n",
       "      <td>69.000</td>\n",
       "      <td>0.878</td>\n",
       "      <td>-0.175</td>\n",
       "      <td>NaN</td>\n",
       "    </tr>\n",
       "    <tr>\n",
       "      <th>379</th>\n",
       "      <td>China</td>\n",
       "      <td>East Asia</td>\n",
       "      <td>2018</td>\n",
       "      <td>5.131</td>\n",
       "      <td>9.632</td>\n",
       "      <td>0.788</td>\n",
       "      <td>69.300</td>\n",
       "      <td>0.895</td>\n",
       "      <td>-0.159</td>\n",
       "      <td>NaN</td>\n",
       "    </tr>\n",
       "    <tr>\n",
       "      <th>380</th>\n",
       "      <td>China</td>\n",
       "      <td>East Asia</td>\n",
       "      <td>2019</td>\n",
       "      <td>5.144</td>\n",
       "      <td>9.688</td>\n",
       "      <td>0.822</td>\n",
       "      <td>69.600</td>\n",
       "      <td>0.927</td>\n",
       "      <td>-0.173</td>\n",
       "      <td>NaN</td>\n",
       "    </tr>\n",
       "    <tr>\n",
       "      <th>381</th>\n",
       "      <td>China</td>\n",
       "      <td>East Asia</td>\n",
       "      <td>2020</td>\n",
       "      <td>5.771</td>\n",
       "      <td>9.702</td>\n",
       "      <td>0.808</td>\n",
       "      <td>69.900</td>\n",
       "      <td>0.891</td>\n",
       "      <td>-0.103</td>\n",
       "      <td>NaN</td>\n",
       "    </tr>\n",
       "    <tr>\n",
       "      <th>382</th>\n",
       "      <td>China</td>\n",
       "      <td>East Asia</td>\n",
       "      <td>2021</td>\n",
       "      <td>5.339</td>\n",
       "      <td>9.673</td>\n",
       "      <td>0.811</td>\n",
       "      <td>69.593</td>\n",
       "      <td>0.904</td>\n",
       "      <td>-0.146</td>\n",
       "      <td>0.755</td>\n",
       "    </tr>\n",
       "  </tbody>\n",
       "</table>\n",
       "</div>"
      ],
      "text/plain": [
       "    Country     Region  year  Life_Ladder_Score  Log_GDP_per_capita  \\\n",
       "367   China  East Asia  2006              4.560               8.696   \n",
       "368   China  East Asia  2007              4.863               8.824   \n",
       "369   China  East Asia  2008              4.846               8.911   \n",
       "370   China  East Asia  2009              4.454               8.996   \n",
       "371   China  East Asia  2010              4.653               9.092   \n",
       "372   China  East Asia  2011              5.037               9.179   \n",
       "373   China  East Asia  2012              5.095               9.249   \n",
       "374   China  East Asia  2013              5.241               9.319   \n",
       "375   China  East Asia  2014              5.196               9.386   \n",
       "376   China  East Asia  2015              5.304               9.449   \n",
       "377   China  East Asia  2016              5.325               9.510   \n",
       "378   China  East Asia  2017              5.099               9.571   \n",
       "379   China  East Asia  2018              5.131               9.632   \n",
       "380   China  East Asia  2019              5.144               9.688   \n",
       "381   China  East Asia  2020              5.771               9.702   \n",
       "382   China  East Asia  2021              5.339               9.673   \n",
       "\n",
       "     Social_support  Healthy_life_expectancy  Freedom_to_make_life_choices  \\\n",
       "367           0.747                   66.880                           NaN   \n",
       "368           0.811                   67.060                           NaN   \n",
       "369           0.748                   67.240                         0.853   \n",
       "370           0.798                   67.420                         0.771   \n",
       "371           0.768                   67.600                         0.805   \n",
       "372           0.787                   67.760                         0.824   \n",
       "373           0.788                   67.920                         0.808   \n",
       "374           0.778                   68.080                         0.805   \n",
       "375           0.820                   68.240                           NaN   \n",
       "376           0.794                   68.400                           NaN   \n",
       "377           0.742                   68.700                           NaN   \n",
       "378           0.772                   69.000                         0.878   \n",
       "379           0.788                   69.300                         0.895   \n",
       "380           0.822                   69.600                         0.927   \n",
       "381           0.808                   69.900                         0.891   \n",
       "382           0.811                   69.593                         0.904   \n",
       "\n",
       "     Generosity  Perceptions_of_corruption  \n",
       "367         NaN                        NaN  \n",
       "368      -0.176                        NaN  \n",
       "369      -0.092                        NaN  \n",
       "370      -0.160                        NaN  \n",
       "371      -0.133                        NaN  \n",
       "372      -0.186                        NaN  \n",
       "373      -0.185                        NaN  \n",
       "374      -0.158                        NaN  \n",
       "375      -0.217                        NaN  \n",
       "376      -0.244                        NaN  \n",
       "377      -0.228                        NaN  \n",
       "378      -0.175                        NaN  \n",
       "379      -0.159                        NaN  \n",
       "380      -0.173                        NaN  \n",
       "381      -0.103                        NaN  \n",
       "382      -0.146                      0.755  "
      ]
     },
     "execution_count": 15,
     "metadata": {},
     "output_type": "execute_result"
    }
   ],
   "source": [
    "data_panel2021[data_panel2021['Country'].isin([\"China\"])]"
   ]
  },
  {
   "cell_type": "code",
   "execution_count": 16,
   "metadata": {},
   "outputs": [],
   "source": [
    "#fill null value with mean of countries in the same Region in the same year\n",
    "data_panel2021[\"Generosity\"] = data_panel2021.groupby([\"Region\",\"year\"])[\"Generosity\"]\\\n",
    ".transform(lambda x: x.fillna(x.mean()))   \n",
    "data_panel2021[\"Log_GDP_per_capita\"] = data_panel2021.groupby([\"Region\",\"year\"])[\"Log_GDP_per_capita\"]\\\n",
    ".transform(lambda x: x.fillna(x.mean())) \n",
    "data_panel2021[\"Social_support\"] = data_panel2021.groupby([\"Region\",\"year\"])[\"Social_support\"]\\\n",
    ".transform(lambda x: x.fillna(x.mean())) \n",
    "data_panel2021[\"Healthy_life_expectancy\"] = data_panel2021.groupby([\"Region\",\"year\"])[\"Healthy_life_expectancy\"]\\\n",
    ".transform(lambda x: x.fillna(x.mean())) \n",
    "data_panel2021[\"Freedom_to_make_life_choices\"] = data_panel2021.groupby([\"Region\",\"year\"])[\"Freedom_to_make_life_choices\"]\\\n",
    ".transform(lambda x: x.fillna(x.mean())) \n",
    "data_panel2021[\"Perceptions_of_corruption\"] = data_panel2021.groupby([\"Region\",\"year\"])[\"Perceptions_of_corruption\"]\\\n",
    ".transform(lambda x: x.fillna(x.mean())) "
   ]
  },
  {
   "cell_type": "code",
   "execution_count": 17,
   "metadata": {},
   "outputs": [
    {
     "name": "stdout",
     "output_type": "stream",
     "text": [
      "<class 'pandas.core.frame.DataFrame'>\n",
      "RangeIndex: 2098 entries, 0 to 2097\n",
      "Data columns (total 10 columns):\n",
      " #   Column                        Non-Null Count  Dtype  \n",
      "---  ------                        --------------  -----  \n",
      " 0   Country                       2098 non-null   object \n",
      " 1   Region                        2098 non-null   object \n",
      " 2   year                          2098 non-null   int64  \n",
      " 3   Life_Ladder_Score             2098 non-null   float64\n",
      " 4   Log_GDP_per_capita            2098 non-null   float64\n",
      " 5   Social_support                2098 non-null   float64\n",
      " 6   Healthy_life_expectancy       2098 non-null   float64\n",
      " 7   Freedom_to_make_life_choices  2098 non-null   float64\n",
      " 8   Generosity                    2073 non-null   float64\n",
      " 9   Perceptions_of_corruption     2098 non-null   float64\n",
      "dtypes: float64(7), int64(1), object(2)\n",
      "memory usage: 164.0+ KB\n"
     ]
    }
   ],
   "source": [
    "data_panel2021.info()"
   ]
  },
  {
   "cell_type": "code",
   "execution_count": 18,
   "metadata": {},
   "outputs": [
    {
     "data": {
      "text/html": [
       "<div>\n",
       "<style scoped>\n",
       "    .dataframe tbody tr th:only-of-type {\n",
       "        vertical-align: middle;\n",
       "    }\n",
       "\n",
       "    .dataframe tbody tr th {\n",
       "        vertical-align: top;\n",
       "    }\n",
       "\n",
       "    .dataframe thead th {\n",
       "        text-align: right;\n",
       "    }\n",
       "</style>\n",
       "<table border=\"1\" class=\"dataframe\">\n",
       "  <thead>\n",
       "    <tr style=\"text-align: right;\">\n",
       "      <th></th>\n",
       "      <th>Country</th>\n",
       "      <th>Region</th>\n",
       "      <th>year</th>\n",
       "      <th>Life_Ladder_Score</th>\n",
       "      <th>Log_GDP_per_capita</th>\n",
       "      <th>Social_support</th>\n",
       "      <th>Healthy_life_expectancy</th>\n",
       "      <th>Freedom_to_make_life_choices</th>\n",
       "      <th>Generosity</th>\n",
       "      <th>Perceptions_of_corruption</th>\n",
       "    </tr>\n",
       "  </thead>\n",
       "  <tbody>\n",
       "    <tr>\n",
       "      <th>158</th>\n",
       "      <td>Belgium</td>\n",
       "      <td>Western Europe</td>\n",
       "      <td>2005</td>\n",
       "      <td>7.262</td>\n",
       "      <td>10.745</td>\n",
       "      <td>0.935</td>\n",
       "      <td>69.9</td>\n",
       "      <td>0.9240</td>\n",
       "      <td>NaN</td>\n",
       "      <td>0.598000</td>\n",
       "    </tr>\n",
       "    <tr>\n",
       "      <th>234</th>\n",
       "      <td>Brazil</td>\n",
       "      <td>Latin America and Caribbean</td>\n",
       "      <td>2005</td>\n",
       "      <td>6.637</td>\n",
       "      <td>9.438</td>\n",
       "      <td>0.883</td>\n",
       "      <td>63.3</td>\n",
       "      <td>0.8820</td>\n",
       "      <td>NaN</td>\n",
       "      <td>0.745000</td>\n",
       "    </tr>\n",
       "    <tr>\n",
       "      <th>469</th>\n",
       "      <td>Czech Republic</td>\n",
       "      <td>Central and Eastern Europe</td>\n",
       "      <td>2005</td>\n",
       "      <td>6.439</td>\n",
       "      <td>10.324</td>\n",
       "      <td>0.919</td>\n",
       "      <td>67.0</td>\n",
       "      <td>0.8650</td>\n",
       "      <td>NaN</td>\n",
       "      <td>0.901000</td>\n",
       "    </tr>\n",
       "    <tr>\n",
       "      <th>482</th>\n",
       "      <td>Denmark</td>\n",
       "      <td>Western Europe</td>\n",
       "      <td>2005</td>\n",
       "      <td>8.019</td>\n",
       "      <td>10.851</td>\n",
       "      <td>0.972</td>\n",
       "      <td>69.6</td>\n",
       "      <td>0.9710</td>\n",
       "      <td>NaN</td>\n",
       "      <td>0.237000</td>\n",
       "    </tr>\n",
       "    <tr>\n",
       "      <th>534</th>\n",
       "      <td>Egypt</td>\n",
       "      <td>Middle East and North Africa</td>\n",
       "      <td>2005</td>\n",
       "      <td>5.168</td>\n",
       "      <td>9.036</td>\n",
       "      <td>0.848</td>\n",
       "      <td>59.7</td>\n",
       "      <td>0.8170</td>\n",
       "      <td>NaN</td>\n",
       "      <td>0.726600</td>\n",
       "    </tr>\n",
       "    <tr>\n",
       "      <th>605</th>\n",
       "      <td>France</td>\n",
       "      <td>Western Europe</td>\n",
       "      <td>2005</td>\n",
       "      <td>7.093</td>\n",
       "      <td>10.642</td>\n",
       "      <td>0.940</td>\n",
       "      <td>71.3</td>\n",
       "      <td>0.8950</td>\n",
       "      <td>NaN</td>\n",
       "      <td>0.688000</td>\n",
       "    </tr>\n",
       "    <tr>\n",
       "      <th>651</th>\n",
       "      <td>Germany</td>\n",
       "      <td>Western Europe</td>\n",
       "      <td>2005</td>\n",
       "      <td>6.620</td>\n",
       "      <td>10.689</td>\n",
       "      <td>0.963</td>\n",
       "      <td>70.2</td>\n",
       "      <td>0.8470</td>\n",
       "      <td>NaN</td>\n",
       "      <td>0.781000</td>\n",
       "    </tr>\n",
       "    <tr>\n",
       "      <th>683</th>\n",
       "      <td>Greece</td>\n",
       "      <td>Western Europe</td>\n",
       "      <td>2005</td>\n",
       "      <td>6.006</td>\n",
       "      <td>10.462</td>\n",
       "      <td>0.837</td>\n",
       "      <td>70.5</td>\n",
       "      <td>0.7340</td>\n",
       "      <td>NaN</td>\n",
       "      <td>0.861000</td>\n",
       "    </tr>\n",
       "    <tr>\n",
       "      <th>763</th>\n",
       "      <td>Hungary</td>\n",
       "      <td>Central and Eastern Europe</td>\n",
       "      <td>2005</td>\n",
       "      <td>5.194</td>\n",
       "      <td>10.108</td>\n",
       "      <td>0.930</td>\n",
       "      <td>64.6</td>\n",
       "      <td>0.6970</td>\n",
       "      <td>NaN</td>\n",
       "      <td>0.903000</td>\n",
       "    </tr>\n",
       "    <tr>\n",
       "      <th>818</th>\n",
       "      <td>Iran</td>\n",
       "      <td>Middle East and North Africa</td>\n",
       "      <td>2005</td>\n",
       "      <td>5.308</td>\n",
       "      <td>9.393</td>\n",
       "      <td>0.766</td>\n",
       "      <td>62.0</td>\n",
       "      <td>0.6510</td>\n",
       "      <td>NaN</td>\n",
       "      <td>0.636000</td>\n",
       "    </tr>\n",
       "    <tr>\n",
       "      <th>876</th>\n",
       "      <td>Italy</td>\n",
       "      <td>Western Europe</td>\n",
       "      <td>2005</td>\n",
       "      <td>6.854</td>\n",
       "      <td>10.703</td>\n",
       "      <td>0.928</td>\n",
       "      <td>71.9</td>\n",
       "      <td>0.8020</td>\n",
       "      <td>NaN</td>\n",
       "      <td>0.944000</td>\n",
       "    </tr>\n",
       "    <tr>\n",
       "      <th>909</th>\n",
       "      <td>Japan</td>\n",
       "      <td>East Asia</td>\n",
       "      <td>2005</td>\n",
       "      <td>6.516</td>\n",
       "      <td>10.529</td>\n",
       "      <td>0.928</td>\n",
       "      <td>73.2</td>\n",
       "      <td>0.8680</td>\n",
       "      <td>NaN</td>\n",
       "      <td>0.699000</td>\n",
       "    </tr>\n",
       "    <tr>\n",
       "      <th>925</th>\n",
       "      <td>Jordan</td>\n",
       "      <td>Middle East and North Africa</td>\n",
       "      <td>2005</td>\n",
       "      <td>6.295</td>\n",
       "      <td>9.246</td>\n",
       "      <td>0.920</td>\n",
       "      <td>63.5</td>\n",
       "      <td>0.6985</td>\n",
       "      <td>NaN</td>\n",
       "      <td>0.670000</td>\n",
       "    </tr>\n",
       "    <tr>\n",
       "      <th>1041</th>\n",
       "      <td>Lebanon</td>\n",
       "      <td>Middle East and North Africa</td>\n",
       "      <td>2005</td>\n",
       "      <td>5.491</td>\n",
       "      <td>9.565</td>\n",
       "      <td>0.796</td>\n",
       "      <td>64.6</td>\n",
       "      <td>0.7030</td>\n",
       "      <td>NaN</td>\n",
       "      <td>0.945000</td>\n",
       "    </tr>\n",
       "    <tr>\n",
       "      <th>1195</th>\n",
       "      <td>Mexico</td>\n",
       "      <td>Latin America and Caribbean</td>\n",
       "      <td>2005</td>\n",
       "      <td>6.581</td>\n",
       "      <td>9.788</td>\n",
       "      <td>0.903</td>\n",
       "      <td>66.2</td>\n",
       "      <td>0.8140</td>\n",
       "      <td>NaN</td>\n",
       "      <td>0.764000</td>\n",
       "    </tr>\n",
       "    <tr>\n",
       "      <th>1307</th>\n",
       "      <td>Netherlands</td>\n",
       "      <td>Western Europe</td>\n",
       "      <td>2005</td>\n",
       "      <td>7.464</td>\n",
       "      <td>10.814</td>\n",
       "      <td>0.947</td>\n",
       "      <td>70.4</td>\n",
       "      <td>0.9010</td>\n",
       "      <td>NaN</td>\n",
       "      <td>0.571000</td>\n",
       "    </tr>\n",
       "    <tr>\n",
       "      <th>1415</th>\n",
       "      <td>Pakistan</td>\n",
       "      <td>South Asia</td>\n",
       "      <td>2005</td>\n",
       "      <td>5.225</td>\n",
       "      <td>8.218</td>\n",
       "      <td>0.591</td>\n",
       "      <td>54.2</td>\n",
       "      <td>0.6300</td>\n",
       "      <td>NaN</td>\n",
       "      <td>0.844000</td>\n",
       "    </tr>\n",
       "    <tr>\n",
       "      <th>1505</th>\n",
       "      <td>Poland</td>\n",
       "      <td>Central and Eastern Europe</td>\n",
       "      <td>2005</td>\n",
       "      <td>5.587</td>\n",
       "      <td>9.849</td>\n",
       "      <td>0.922</td>\n",
       "      <td>66.3</td>\n",
       "      <td>0.7820</td>\n",
       "      <td>NaN</td>\n",
       "      <td>0.983000</td>\n",
       "    </tr>\n",
       "    <tr>\n",
       "      <th>1539</th>\n",
       "      <td>Romania</td>\n",
       "      <td>Central and Eastern Europe</td>\n",
       "      <td>2005</td>\n",
       "      <td>5.049</td>\n",
       "      <td>9.724</td>\n",
       "      <td>0.838</td>\n",
       "      <td>64.0</td>\n",
       "      <td>0.8000</td>\n",
       "      <td>NaN</td>\n",
       "      <td>0.957000</td>\n",
       "    </tr>\n",
       "    <tr>\n",
       "      <th>1582</th>\n",
       "      <td>Saudi Arabia</td>\n",
       "      <td>Middle East and North Africa</td>\n",
       "      <td>2005</td>\n",
       "      <td>7.080</td>\n",
       "      <td>10.699</td>\n",
       "      <td>0.868</td>\n",
       "      <td>63.5</td>\n",
       "      <td>0.6985</td>\n",
       "      <td>NaN</td>\n",
       "      <td>0.505000</td>\n",
       "    </tr>\n",
       "    <tr>\n",
       "      <th>1724</th>\n",
       "      <td>Spain</td>\n",
       "      <td>Western Europe</td>\n",
       "      <td>2005</td>\n",
       "      <td>7.153</td>\n",
       "      <td>10.546</td>\n",
       "      <td>0.961</td>\n",
       "      <td>71.5</td>\n",
       "      <td>0.9160</td>\n",
       "      <td>NaN</td>\n",
       "      <td>0.777000</td>\n",
       "    </tr>\n",
       "    <tr>\n",
       "      <th>1764</th>\n",
       "      <td>Sweden</td>\n",
       "      <td>Western Europe</td>\n",
       "      <td>2005</td>\n",
       "      <td>7.376</td>\n",
       "      <td>10.739</td>\n",
       "      <td>0.951</td>\n",
       "      <td>71.2</td>\n",
       "      <td>0.9640</td>\n",
       "      <td>NaN</td>\n",
       "      <td>0.650556</td>\n",
       "    </tr>\n",
       "    <tr>\n",
       "      <th>1888</th>\n",
       "      <td>Turkey</td>\n",
       "      <td>Middle East and North Africa</td>\n",
       "      <td>2005</td>\n",
       "      <td>4.719</td>\n",
       "      <td>9.809</td>\n",
       "      <td>0.820</td>\n",
       "      <td>62.6</td>\n",
       "      <td>0.6230</td>\n",
       "      <td>NaN</td>\n",
       "      <td>0.877000</td>\n",
       "    </tr>\n",
       "    <tr>\n",
       "      <th>1961</th>\n",
       "      <td>United Kingdom</td>\n",
       "      <td>Western Europe</td>\n",
       "      <td>2005</td>\n",
       "      <td>6.984</td>\n",
       "      <td>10.663</td>\n",
       "      <td>0.979</td>\n",
       "      <td>69.9</td>\n",
       "      <td>0.9220</td>\n",
       "      <td>NaN</td>\n",
       "      <td>0.398000</td>\n",
       "    </tr>\n",
       "    <tr>\n",
       "      <th>2023</th>\n",
       "      <td>Venezuela</td>\n",
       "      <td>Latin America and Caribbean</td>\n",
       "      <td>2005</td>\n",
       "      <td>7.170</td>\n",
       "      <td>9.313</td>\n",
       "      <td>0.955</td>\n",
       "      <td>65.4</td>\n",
       "      <td>0.8380</td>\n",
       "      <td>NaN</td>\n",
       "      <td>0.720000</td>\n",
       "    </tr>\n",
       "  </tbody>\n",
       "</table>\n",
       "</div>"
      ],
      "text/plain": [
       "             Country                        Region  year  Life_Ladder_Score  \\\n",
       "158          Belgium                Western Europe  2005              7.262   \n",
       "234           Brazil   Latin America and Caribbean  2005              6.637   \n",
       "469   Czech Republic    Central and Eastern Europe  2005              6.439   \n",
       "482          Denmark                Western Europe  2005              8.019   \n",
       "534            Egypt  Middle East and North Africa  2005              5.168   \n",
       "605           France                Western Europe  2005              7.093   \n",
       "651          Germany                Western Europe  2005              6.620   \n",
       "683           Greece                Western Europe  2005              6.006   \n",
       "763          Hungary    Central and Eastern Europe  2005              5.194   \n",
       "818             Iran  Middle East and North Africa  2005              5.308   \n",
       "876            Italy                Western Europe  2005              6.854   \n",
       "909            Japan                     East Asia  2005              6.516   \n",
       "925           Jordan  Middle East and North Africa  2005              6.295   \n",
       "1041         Lebanon  Middle East and North Africa  2005              5.491   \n",
       "1195          Mexico   Latin America and Caribbean  2005              6.581   \n",
       "1307     Netherlands                Western Europe  2005              7.464   \n",
       "1415        Pakistan                    South Asia  2005              5.225   \n",
       "1505          Poland    Central and Eastern Europe  2005              5.587   \n",
       "1539         Romania    Central and Eastern Europe  2005              5.049   \n",
       "1582    Saudi Arabia  Middle East and North Africa  2005              7.080   \n",
       "1724           Spain                Western Europe  2005              7.153   \n",
       "1764          Sweden                Western Europe  2005              7.376   \n",
       "1888          Turkey  Middle East and North Africa  2005              4.719   \n",
       "1961  United Kingdom                Western Europe  2005              6.984   \n",
       "2023       Venezuela   Latin America and Caribbean  2005              7.170   \n",
       "\n",
       "      Log_GDP_per_capita  Social_support  Healthy_life_expectancy  \\\n",
       "158               10.745           0.935                     69.9   \n",
       "234                9.438           0.883                     63.3   \n",
       "469               10.324           0.919                     67.0   \n",
       "482               10.851           0.972                     69.6   \n",
       "534                9.036           0.848                     59.7   \n",
       "605               10.642           0.940                     71.3   \n",
       "651               10.689           0.963                     70.2   \n",
       "683               10.462           0.837                     70.5   \n",
       "763               10.108           0.930                     64.6   \n",
       "818                9.393           0.766                     62.0   \n",
       "876               10.703           0.928                     71.9   \n",
       "909               10.529           0.928                     73.2   \n",
       "925                9.246           0.920                     63.5   \n",
       "1041               9.565           0.796                     64.6   \n",
       "1195               9.788           0.903                     66.2   \n",
       "1307              10.814           0.947                     70.4   \n",
       "1415               8.218           0.591                     54.2   \n",
       "1505               9.849           0.922                     66.3   \n",
       "1539               9.724           0.838                     64.0   \n",
       "1582              10.699           0.868                     63.5   \n",
       "1724              10.546           0.961                     71.5   \n",
       "1764              10.739           0.951                     71.2   \n",
       "1888               9.809           0.820                     62.6   \n",
       "1961              10.663           0.979                     69.9   \n",
       "2023               9.313           0.955                     65.4   \n",
       "\n",
       "      Freedom_to_make_life_choices  Generosity  Perceptions_of_corruption  \n",
       "158                         0.9240         NaN                   0.598000  \n",
       "234                         0.8820         NaN                   0.745000  \n",
       "469                         0.8650         NaN                   0.901000  \n",
       "482                         0.9710         NaN                   0.237000  \n",
       "534                         0.8170         NaN                   0.726600  \n",
       "605                         0.8950         NaN                   0.688000  \n",
       "651                         0.8470         NaN                   0.781000  \n",
       "683                         0.7340         NaN                   0.861000  \n",
       "763                         0.6970         NaN                   0.903000  \n",
       "818                         0.6510         NaN                   0.636000  \n",
       "876                         0.8020         NaN                   0.944000  \n",
       "909                         0.8680         NaN                   0.699000  \n",
       "925                         0.6985         NaN                   0.670000  \n",
       "1041                        0.7030         NaN                   0.945000  \n",
       "1195                        0.8140         NaN                   0.764000  \n",
       "1307                        0.9010         NaN                   0.571000  \n",
       "1415                        0.6300         NaN                   0.844000  \n",
       "1505                        0.7820         NaN                   0.983000  \n",
       "1539                        0.8000         NaN                   0.957000  \n",
       "1582                        0.6985         NaN                   0.505000  \n",
       "1724                        0.9160         NaN                   0.777000  \n",
       "1764                        0.9640         NaN                   0.650556  \n",
       "1888                        0.6230         NaN                   0.877000  \n",
       "1961                        0.9220         NaN                   0.398000  \n",
       "2023                        0.8380         NaN                   0.720000  "
      ]
     },
     "execution_count": 18,
     "metadata": {},
     "output_type": "execute_result"
    }
   ],
   "source": [
    "data_panel2021[data_panel2021.isnull().T.any()]"
   ]
  },
  {
   "cell_type": "code",
   "execution_count": 19,
   "metadata": {},
   "outputs": [],
   "source": [
    "data_panel2021[\"Generosity\"].fillna(method='bfill', inplace=True)"
   ]
  },
  {
   "cell_type": "code",
   "execution_count": 20,
   "metadata": {},
   "outputs": [
    {
     "data": {
      "text/html": [
       "<div>\n",
       "<style scoped>\n",
       "    .dataframe tbody tr th:only-of-type {\n",
       "        vertical-align: middle;\n",
       "    }\n",
       "\n",
       "    .dataframe tbody tr th {\n",
       "        vertical-align: top;\n",
       "    }\n",
       "\n",
       "    .dataframe thead th {\n",
       "        text-align: right;\n",
       "    }\n",
       "</style>\n",
       "<table border=\"1\" class=\"dataframe\">\n",
       "  <thead>\n",
       "    <tr style=\"text-align: right;\">\n",
       "      <th></th>\n",
       "      <th>Country</th>\n",
       "      <th>Region</th>\n",
       "      <th>year</th>\n",
       "      <th>Life_Ladder_Score</th>\n",
       "      <th>Log_GDP_per_capita</th>\n",
       "      <th>Social_support</th>\n",
       "      <th>Healthy_life_expectancy</th>\n",
       "      <th>Freedom_to_make_life_choices</th>\n",
       "      <th>Generosity</th>\n",
       "      <th>Perceptions_of_corruption</th>\n",
       "    </tr>\n",
       "  </thead>\n",
       "  <tbody>\n",
       "    <tr>\n",
       "      <th>158</th>\n",
       "      <td>Belgium</td>\n",
       "      <td>Western Europe</td>\n",
       "      <td>2005</td>\n",
       "      <td>7.262</td>\n",
       "      <td>10.745</td>\n",
       "      <td>0.935</td>\n",
       "      <td>69.900</td>\n",
       "      <td>0.924</td>\n",
       "      <td>0.069</td>\n",
       "      <td>0.598</td>\n",
       "    </tr>\n",
       "    <tr>\n",
       "      <th>159</th>\n",
       "      <td>Belgium</td>\n",
       "      <td>Western Europe</td>\n",
       "      <td>2007</td>\n",
       "      <td>7.219</td>\n",
       "      <td>10.792</td>\n",
       "      <td>0.922</td>\n",
       "      <td>70.260</td>\n",
       "      <td>0.901</td>\n",
       "      <td>0.069</td>\n",
       "      <td>0.721</td>\n",
       "    </tr>\n",
       "    <tr>\n",
       "      <th>160</th>\n",
       "      <td>Belgium</td>\n",
       "      <td>Western Europe</td>\n",
       "      <td>2008</td>\n",
       "      <td>7.117</td>\n",
       "      <td>10.789</td>\n",
       "      <td>0.923</td>\n",
       "      <td>70.440</td>\n",
       "      <td>0.887</td>\n",
       "      <td>0.007</td>\n",
       "      <td>0.652</td>\n",
       "    </tr>\n",
       "    <tr>\n",
       "      <th>161</th>\n",
       "      <td>Belgium</td>\n",
       "      <td>Western Europe</td>\n",
       "      <td>2010</td>\n",
       "      <td>6.854</td>\n",
       "      <td>10.779</td>\n",
       "      <td>0.931</td>\n",
       "      <td>70.800</td>\n",
       "      <td>0.807</td>\n",
       "      <td>0.022</td>\n",
       "      <td>0.697</td>\n",
       "    </tr>\n",
       "    <tr>\n",
       "      <th>162</th>\n",
       "      <td>Belgium</td>\n",
       "      <td>Western Europe</td>\n",
       "      <td>2011</td>\n",
       "      <td>7.111</td>\n",
       "      <td>10.783</td>\n",
       "      <td>0.937</td>\n",
       "      <td>70.920</td>\n",
       "      <td>0.880</td>\n",
       "      <td>-0.014</td>\n",
       "      <td>0.711</td>\n",
       "    </tr>\n",
       "    <tr>\n",
       "      <th>163</th>\n",
       "      <td>Belgium</td>\n",
       "      <td>Western Europe</td>\n",
       "      <td>2012</td>\n",
       "      <td>6.935</td>\n",
       "      <td>10.784</td>\n",
       "      <td>0.927</td>\n",
       "      <td>71.040</td>\n",
       "      <td>0.855</td>\n",
       "      <td>-0.050</td>\n",
       "      <td>0.758</td>\n",
       "    </tr>\n",
       "    <tr>\n",
       "      <th>164</th>\n",
       "      <td>Belgium</td>\n",
       "      <td>Western Europe</td>\n",
       "      <td>2013</td>\n",
       "      <td>7.104</td>\n",
       "      <td>10.784</td>\n",
       "      <td>0.909</td>\n",
       "      <td>71.160</td>\n",
       "      <td>0.891</td>\n",
       "      <td>0.017</td>\n",
       "      <td>0.574</td>\n",
       "    </tr>\n",
       "    <tr>\n",
       "      <th>165</th>\n",
       "      <td>Belgium</td>\n",
       "      <td>Western Europe</td>\n",
       "      <td>2014</td>\n",
       "      <td>6.855</td>\n",
       "      <td>10.795</td>\n",
       "      <td>0.944</td>\n",
       "      <td>71.280</td>\n",
       "      <td>0.861</td>\n",
       "      <td>0.001</td>\n",
       "      <td>0.512</td>\n",
       "    </tr>\n",
       "    <tr>\n",
       "      <th>166</th>\n",
       "      <td>Belgium</td>\n",
       "      <td>Western Europe</td>\n",
       "      <td>2015</td>\n",
       "      <td>6.904</td>\n",
       "      <td>10.810</td>\n",
       "      <td>0.885</td>\n",
       "      <td>71.400</td>\n",
       "      <td>0.869</td>\n",
       "      <td>0.062</td>\n",
       "      <td>0.469</td>\n",
       "    </tr>\n",
       "    <tr>\n",
       "      <th>167</th>\n",
       "      <td>Belgium</td>\n",
       "      <td>Western Europe</td>\n",
       "      <td>2016</td>\n",
       "      <td>6.949</td>\n",
       "      <td>10.819</td>\n",
       "      <td>0.929</td>\n",
       "      <td>71.600</td>\n",
       "      <td>0.866</td>\n",
       "      <td>-0.056</td>\n",
       "      <td>0.497</td>\n",
       "    </tr>\n",
       "    <tr>\n",
       "      <th>168</th>\n",
       "      <td>Belgium</td>\n",
       "      <td>Western Europe</td>\n",
       "      <td>2017</td>\n",
       "      <td>6.928</td>\n",
       "      <td>10.834</td>\n",
       "      <td>0.922</td>\n",
       "      <td>71.800</td>\n",
       "      <td>0.857</td>\n",
       "      <td>0.054</td>\n",
       "      <td>0.543</td>\n",
       "    </tr>\n",
       "    <tr>\n",
       "      <th>169</th>\n",
       "      <td>Belgium</td>\n",
       "      <td>Western Europe</td>\n",
       "      <td>2018</td>\n",
       "      <td>6.892</td>\n",
       "      <td>10.844</td>\n",
       "      <td>0.930</td>\n",
       "      <td>72.000</td>\n",
       "      <td>0.808</td>\n",
       "      <td>-0.125</td>\n",
       "      <td>0.630</td>\n",
       "    </tr>\n",
       "    <tr>\n",
       "      <th>170</th>\n",
       "      <td>Belgium</td>\n",
       "      <td>Western Europe</td>\n",
       "      <td>2019</td>\n",
       "      <td>6.772</td>\n",
       "      <td>10.853</td>\n",
       "      <td>0.884</td>\n",
       "      <td>72.200</td>\n",
       "      <td>0.776</td>\n",
       "      <td>-0.172</td>\n",
       "      <td>0.672</td>\n",
       "    </tr>\n",
       "    <tr>\n",
       "      <th>171</th>\n",
       "      <td>Belgium</td>\n",
       "      <td>Western Europe</td>\n",
       "      <td>2020</td>\n",
       "      <td>6.839</td>\n",
       "      <td>10.771</td>\n",
       "      <td>0.904</td>\n",
       "      <td>72.400</td>\n",
       "      <td>0.767</td>\n",
       "      <td>-0.164</td>\n",
       "      <td>0.634</td>\n",
       "    </tr>\n",
       "    <tr>\n",
       "      <th>172</th>\n",
       "      <td>Belgium</td>\n",
       "      <td>Western Europe</td>\n",
       "      <td>2021</td>\n",
       "      <td>6.834</td>\n",
       "      <td>10.823</td>\n",
       "      <td>0.906</td>\n",
       "      <td>72.199</td>\n",
       "      <td>0.783</td>\n",
       "      <td>-0.153</td>\n",
       "      <td>0.646</td>\n",
       "    </tr>\n",
       "  </tbody>\n",
       "</table>\n",
       "</div>"
      ],
      "text/plain": [
       "     Country          Region  year  Life_Ladder_Score  Log_GDP_per_capita  \\\n",
       "158  Belgium  Western Europe  2005              7.262              10.745   \n",
       "159  Belgium  Western Europe  2007              7.219              10.792   \n",
       "160  Belgium  Western Europe  2008              7.117              10.789   \n",
       "161  Belgium  Western Europe  2010              6.854              10.779   \n",
       "162  Belgium  Western Europe  2011              7.111              10.783   \n",
       "163  Belgium  Western Europe  2012              6.935              10.784   \n",
       "164  Belgium  Western Europe  2013              7.104              10.784   \n",
       "165  Belgium  Western Europe  2014              6.855              10.795   \n",
       "166  Belgium  Western Europe  2015              6.904              10.810   \n",
       "167  Belgium  Western Europe  2016              6.949              10.819   \n",
       "168  Belgium  Western Europe  2017              6.928              10.834   \n",
       "169  Belgium  Western Europe  2018              6.892              10.844   \n",
       "170  Belgium  Western Europe  2019              6.772              10.853   \n",
       "171  Belgium  Western Europe  2020              6.839              10.771   \n",
       "172  Belgium  Western Europe  2021              6.834              10.823   \n",
       "\n",
       "     Social_support  Healthy_life_expectancy  Freedom_to_make_life_choices  \\\n",
       "158           0.935                   69.900                         0.924   \n",
       "159           0.922                   70.260                         0.901   \n",
       "160           0.923                   70.440                         0.887   \n",
       "161           0.931                   70.800                         0.807   \n",
       "162           0.937                   70.920                         0.880   \n",
       "163           0.927                   71.040                         0.855   \n",
       "164           0.909                   71.160                         0.891   \n",
       "165           0.944                   71.280                         0.861   \n",
       "166           0.885                   71.400                         0.869   \n",
       "167           0.929                   71.600                         0.866   \n",
       "168           0.922                   71.800                         0.857   \n",
       "169           0.930                   72.000                         0.808   \n",
       "170           0.884                   72.200                         0.776   \n",
       "171           0.904                   72.400                         0.767   \n",
       "172           0.906                   72.199                         0.783   \n",
       "\n",
       "     Generosity  Perceptions_of_corruption  \n",
       "158       0.069                      0.598  \n",
       "159       0.069                      0.721  \n",
       "160       0.007                      0.652  \n",
       "161       0.022                      0.697  \n",
       "162      -0.014                      0.711  \n",
       "163      -0.050                      0.758  \n",
       "164       0.017                      0.574  \n",
       "165       0.001                      0.512  \n",
       "166       0.062                      0.469  \n",
       "167      -0.056                      0.497  \n",
       "168       0.054                      0.543  \n",
       "169      -0.125                      0.630  \n",
       "170      -0.172                      0.672  \n",
       "171      -0.164                      0.634  \n",
       "172      -0.153                      0.646  "
      ]
     },
     "execution_count": 20,
     "metadata": {},
     "output_type": "execute_result"
    }
   ],
   "source": [
    "data_panel2021[data_panel2021['Country'].isin([\"Belgium\"])]"
   ]
  },
  {
   "cell_type": "code",
   "execution_count": 21,
   "metadata": {},
   "outputs": [
    {
     "name": "stdout",
     "output_type": "stream",
     "text": [
      "<class 'pandas.core.frame.DataFrame'>\n",
      "RangeIndex: 2098 entries, 0 to 2097\n",
      "Data columns (total 10 columns):\n",
      " #   Column                        Non-Null Count  Dtype  \n",
      "---  ------                        --------------  -----  \n",
      " 0   Country                       2098 non-null   object \n",
      " 1   Region                        2098 non-null   object \n",
      " 2   year                          2098 non-null   int64  \n",
      " 3   Life_Ladder_Score             2098 non-null   float64\n",
      " 4   Log_GDP_per_capita            2098 non-null   float64\n",
      " 5   Social_support                2098 non-null   float64\n",
      " 6   Healthy_life_expectancy       2098 non-null   float64\n",
      " 7   Freedom_to_make_life_choices  2098 non-null   float64\n",
      " 8   Generosity                    2098 non-null   float64\n",
      " 9   Perceptions_of_corruption     2098 non-null   float64\n",
      "dtypes: float64(7), int64(1), object(2)\n",
      "memory usage: 164.0+ KB\n"
     ]
    }
   ],
   "source": [
    "data_panel2021.info()"
   ]
  },
  {
   "cell_type": "code",
   "execution_count": 22,
   "metadata": {},
   "outputs": [],
   "source": [
    "data_panel2021b=data_panel2021.drop(columns=[\"Country\",\"Region\",\"year\"])"
   ]
  },
  {
   "cell_type": "code",
   "execution_count": 23,
   "metadata": {},
   "outputs": [
    {
     "data": {
      "image/png": "[encoded data removed]",
      "text/plain": [
       "<Figure size 504x72 with 1 Axes>"
      ]
     },
     "metadata": {
      "needs_background": "light"
     },
     "output_type": "display_data"
    }
   ],
   "source": [
    "#Colors to be used in the plots\n",
    "color=[\"#f94144\",\"#f3722c\",\"#f8961e\",\"#f9c74f\",\"#90be6d\",\"#43aa8b\",\"#577590\"]\n",
    "sns.palplot(color)"
   ]
  },
  {
   "cell_type": "code",
   "execution_count": 24,
   "metadata": {},
   "outputs": [
    {
     "data": {
      "image/png": "[encoded data removed]",
      "text/plain": [
       "<Figure size 1080x576 with 1 Axes>"
      ]
     },
     "metadata": {
      "needs_background": "light"
     },
     "output_type": "display_data"
    }
   ],
   "source": [
    "\n",
    "fig=plt.figure(figsize=(15,8))\n",
    "plt.title(\"Data distribution by Features\",family='Serif', weight='bold', size=20)\n",
    "sns.boxplot(data=data_panel2021b,orient=\"h\", palette=color)\n",
    "\n",
    "for s in ['left','right','top','bottom']:\n",
    "    plt.gca().spines[s].set_visible(False)"
   ]
  },
  {
   "cell_type": "code",
   "execution_count": 25,
   "metadata": {},
   "outputs": [
    {
     "data": {
      "text/plain": [
       "Life_Ladder_Score                8.019\n",
       "Log_GDP_per_capita              11.648\n",
       "Social_support                   0.987\n",
       "Healthy_life_expectancy         77.100\n",
       "Freedom_to_make_life_choices     0.985\n",
       "Generosity                       0.698\n",
       "Perceptions_of_corruption        0.983\n",
       "dtype: float64"
      ]
     },
     "execution_count": 25,
     "metadata": {},
     "output_type": "execute_result"
    }
   ],
   "source": [
    "data_panel2021b.max()"
   ]
  },
  {
   "cell_type": "markdown",
   "metadata": {},
   "source": [
    "Predict Model"
   ]
  },
  {
   "cell_type": "code",
   "execution_count": 26,
   "metadata": {},
   "outputs": [],
   "source": [
    "# Standard ML Models for comparision\n",
    "from sklearn.linear_model import LinearRegression\n",
    "from sklearn.ensemble import RandomForestRegressor\n",
    "from sklearn.tree import DecisionTreeRegressor\n",
    "import statsmodels.api as sm\n",
    "from scipy import stats\n",
    "\n",
    "\n",
    "\n",
    "# Splitting data into training/testing\n",
    "from sklearn.model_selection import train_test_split\n",
    "\n",
    "# Metrics\n",
    "from sklearn.metrics import mean_squared_error, mean_absolute_error, median_absolute_error\n",
    "from sklearn.preprocessing import MinMaxScaler\n",
    "from sklearn.metrics import r2_score"
   ]
  },
  {
   "cell_type": "code",
   "execution_count": 27,
   "metadata": {},
   "outputs": [],
   "source": [
    "features_to_normalize = [\"Life_Ladder_Score\",\"Generosity\",\"Log_GDP_per_capita\",\"Social_support\",\"Healthy_life_expectancy\",\"Freedom_to_make_life_choices\", \"Perceptions_of_corruption\"]\n",
    "\n",
    "data_panel2021[features_to_normalize] = data_panel2021[features_to_normalize].apply(lambda x:(x-x.min()) / (x.max()-x.min()))"
   ]
  },
  {
   "cell_type": "code",
   "execution_count": 28,
   "metadata": {},
   "outputs": [
    {
     "data": {
      "text/html": [
       "<div>\n",
       "<style scoped>\n",
       "    .dataframe tbody tr th:only-of-type {\n",
       "        vertical-align: middle;\n",
       "    }\n",
       "\n",
       "    .dataframe tbody tr th {\n",
       "        vertical-align: top;\n",
       "    }\n",
       "\n",
       "    .dataframe thead th {\n",
       "        text-align: right;\n",
       "    }\n",
       "</style>\n",
       "<table border=\"1\" class=\"dataframe\">\n",
       "  <thead>\n",
       "    <tr style=\"text-align: right;\">\n",
       "      <th></th>\n",
       "      <th>Country</th>\n",
       "      <th>Region</th>\n",
       "      <th>year</th>\n",
       "      <th>Life_Ladder_Score</th>\n",
       "      <th>Log_GDP_per_capita</th>\n",
       "      <th>Social_support</th>\n",
       "      <th>Healthy_life_expectancy</th>\n",
       "      <th>Freedom_to_make_life_choices</th>\n",
       "      <th>Generosity</th>\n",
       "      <th>Perceptions_of_corruption</th>\n",
       "    </tr>\n",
       "  </thead>\n",
       "  <tbody>\n",
       "    <tr>\n",
       "      <th>0</th>\n",
       "      <td>Afghanistan</td>\n",
       "      <td>South Asia</td>\n",
       "      <td>2008</td>\n",
       "      <td>0.239015</td>\n",
       "      <td>0.146619</td>\n",
       "      <td>0.230990</td>\n",
       "      <td>0.412946</td>\n",
       "      <td>0.632737</td>\n",
       "      <td>0.486931</td>\n",
       "      <td>0.893460</td>\n",
       "    </tr>\n",
       "    <tr>\n",
       "      <th>1</th>\n",
       "      <td>Afghanistan</td>\n",
       "      <td>South Asia</td>\n",
       "      <td>2009</td>\n",
       "      <td>0.359142</td>\n",
       "      <td>0.180531</td>\n",
       "      <td>0.375897</td>\n",
       "      <td>0.421875</td>\n",
       "      <td>0.579092</td>\n",
       "      <td>0.508228</td>\n",
       "      <td>0.859705</td>\n",
       "    </tr>\n",
       "    <tr>\n",
       "      <th>2</th>\n",
       "      <td>Afghanistan</td>\n",
       "      <td>South Asia</td>\n",
       "      <td>2010</td>\n",
       "      <td>0.422218</td>\n",
       "      <td>0.201875</td>\n",
       "      <td>0.357245</td>\n",
       "      <td>0.430804</td>\n",
       "      <td>0.470426</td>\n",
       "      <td>0.441433</td>\n",
       "      <td>0.708861</td>\n",
       "    </tr>\n",
       "    <tr>\n",
       "      <th>3</th>\n",
       "      <td>Afghanistan</td>\n",
       "      <td>South Asia</td>\n",
       "      <td>2011</td>\n",
       "      <td>0.258150</td>\n",
       "      <td>0.196489</td>\n",
       "      <td>0.331420</td>\n",
       "      <td>0.437946</td>\n",
       "      <td>0.327373</td>\n",
       "      <td>0.481123</td>\n",
       "      <td>0.734177</td>\n",
       "    </tr>\n",
       "    <tr>\n",
       "      <th>4</th>\n",
       "      <td>Afghanistan</td>\n",
       "      <td>South Asia</td>\n",
       "      <td>2012</td>\n",
       "      <td>0.249468</td>\n",
       "      <td>0.213445</td>\n",
       "      <td>0.331420</td>\n",
       "      <td>0.445089</td>\n",
       "      <td>0.375516</td>\n",
       "      <td>0.552759</td>\n",
       "      <td>0.781646</td>\n",
       "    </tr>\n",
       "    <tr>\n",
       "      <th>...</th>\n",
       "      <td>...</td>\n",
       "      <td>...</td>\n",
       "      <td>...</td>\n",
       "      <td>...</td>\n",
       "      <td>...</td>\n",
       "      <td>...</td>\n",
       "      <td>...</td>\n",
       "      <td>...</td>\n",
       "      <td>...</td>\n",
       "      <td>...</td>\n",
       "    </tr>\n",
       "    <tr>\n",
       "      <th>2093</th>\n",
       "      <td>Zimbabwe</td>\n",
       "      <td>Sub-Saharan Africa</td>\n",
       "      <td>2017</td>\n",
       "      <td>0.223777</td>\n",
       "      <td>0.275484</td>\n",
       "      <td>0.665710</td>\n",
       "      <td>0.506696</td>\n",
       "      <td>0.680880</td>\n",
       "      <td>0.229429</td>\n",
       "      <td>0.755274</td>\n",
       "    </tr>\n",
       "    <tr>\n",
       "      <th>2094</th>\n",
       "      <td>Zimbabwe</td>\n",
       "      <td>Sub-Saharan Africa</td>\n",
       "      <td>2018</td>\n",
       "      <td>0.219880</td>\n",
       "      <td>0.282067</td>\n",
       "      <td>0.695839</td>\n",
       "      <td>0.520089</td>\n",
       "      <td>0.694635</td>\n",
       "      <td>0.258470</td>\n",
       "      <td>0.853376</td>\n",
       "    </tr>\n",
       "    <tr>\n",
       "      <th>2095</th>\n",
       "      <td>Zimbabwe</td>\n",
       "      <td>Sub-Saharan Africa</td>\n",
       "      <td>2019</td>\n",
       "      <td>0.056520</td>\n",
       "      <td>0.262318</td>\n",
       "      <td>0.672884</td>\n",
       "      <td>0.533482</td>\n",
       "      <td>0.514443</td>\n",
       "      <td>0.262343</td>\n",
       "      <td>0.839662</td>\n",
       "    </tr>\n",
       "    <tr>\n",
       "      <th>2096</th>\n",
       "      <td>Zimbabwe</td>\n",
       "      <td>Sub-Saharan Africa</td>\n",
       "      <td>2020</td>\n",
       "      <td>0.139086</td>\n",
       "      <td>0.238181</td>\n",
       "      <td>0.612626</td>\n",
       "      <td>0.546875</td>\n",
       "      <td>0.529574</td>\n",
       "      <td>0.315586</td>\n",
       "      <td>0.795359</td>\n",
       "    </tr>\n",
       "    <tr>\n",
       "      <th>2097</th>\n",
       "      <td>Zimbabwe</td>\n",
       "      <td>Sub-Saharan Africa</td>\n",
       "      <td>2021</td>\n",
       "      <td>0.136428</td>\n",
       "      <td>0.260922</td>\n",
       "      <td>0.659971</td>\n",
       "      <td>0.533504</td>\n",
       "      <td>0.576341</td>\n",
       "      <td>0.278800</td>\n",
       "      <td>0.829114</td>\n",
       "    </tr>\n",
       "  </tbody>\n",
       "</table>\n",
       "<p>2098 rows × 10 columns</p>\n",
       "</div>"
      ],
      "text/plain": [
       "          Country              Region  year  Life_Ladder_Score  \\\n",
       "0     Afghanistan          South Asia  2008           0.239015   \n",
       "1     Afghanistan          South Asia  2009           0.359142   \n",
       "2     Afghanistan          South Asia  2010           0.422218   \n",
       "3     Afghanistan          South Asia  2011           0.258150   \n",
       "4     Afghanistan          South Asia  2012           0.249468   \n",
       "...           ...                 ...   ...                ...   \n",
       "2093     Zimbabwe  Sub-Saharan Africa  2017           0.223777   \n",
       "2094     Zimbabwe  Sub-Saharan Africa  2018           0.219880   \n",
       "2095     Zimbabwe  Sub-Saharan Africa  2019           0.056520   \n",
       "2096     Zimbabwe  Sub-Saharan Africa  2020           0.139086   \n",
       "2097     Zimbabwe  Sub-Saharan Africa  2021           0.136428   \n",
       "\n",
       "      Log_GDP_per_capita  Social_support  Healthy_life_expectancy  \\\n",
       "0               0.146619        0.230990                 0.412946   \n",
       "1               0.180531        0.375897                 0.421875   \n",
       "2               0.201875        0.357245                 0.430804   \n",
       "3               0.196489        0.331420                 0.437946   \n",
       "4               0.213445        0.331420                 0.445089   \n",
       "...                  ...             ...                      ...   \n",
       "2093            0.275484        0.665710                 0.506696   \n",
       "2094            0.282067        0.695839                 0.520089   \n",
       "2095            0.262318        0.672884                 0.533482   \n",
       "2096            0.238181        0.612626                 0.546875   \n",
       "2097            0.260922        0.659971                 0.533504   \n",
       "\n",
       "      Freedom_to_make_life_choices  Generosity  Perceptions_of_corruption  \n",
       "0                         0.632737    0.486931                   0.893460  \n",
       "1                         0.579092    0.508228                   0.859705  \n",
       "2                         0.470426    0.441433                   0.708861  \n",
       "3                         0.327373    0.481123                   0.734177  \n",
       "4                         0.375516    0.552759                   0.781646  \n",
       "...                            ...         ...                        ...  \n",
       "2093                      0.680880    0.229429                   0.755274  \n",
       "2094                      0.694635    0.258470                   0.853376  \n",
       "2095                      0.514443    0.262343                   0.839662  \n",
       "2096                      0.529574    0.315586                   0.795359  \n",
       "2097                      0.576341    0.278800                   0.829114  \n",
       "\n",
       "[2098 rows x 10 columns]"
      ]
     },
     "execution_count": 28,
     "metadata": {},
     "output_type": "execute_result"
    }
   ],
   "source": [
    "data_panel2021"
   ]
  },
  {
   "cell_type": "code",
   "execution_count": 29,
   "metadata": {},
   "outputs": [],
   "source": [
    "data_panel2021a=data_panel2021.drop(columns=[\"Country\",\"Region\",\"year\"])"
   ]
  },
  {
   "cell_type": "code",
   "execution_count": 30,
   "metadata": {},
   "outputs": [
    {
     "data": {
      "text/html": [
       "<div>\n",
       "<style scoped>\n",
       "    .dataframe tbody tr th:only-of-type {\n",
       "        vertical-align: middle;\n",
       "    }\n",
       "\n",
       "    .dataframe tbody tr th {\n",
       "        vertical-align: top;\n",
       "    }\n",
       "\n",
       "    .dataframe thead th {\n",
       "        text-align: right;\n",
       "    }\n",
       "</style>\n",
       "<table border=\"1\" class=\"dataframe\">\n",
       "  <thead>\n",
       "    <tr style=\"text-align: right;\">\n",
       "      <th></th>\n",
       "      <th>Life_Ladder_Score</th>\n",
       "      <th>Log_GDP_per_capita</th>\n",
       "      <th>Social_support</th>\n",
       "      <th>Healthy_life_expectancy</th>\n",
       "      <th>Freedom_to_make_life_choices</th>\n",
       "      <th>Generosity</th>\n",
       "      <th>Perceptions_of_corruption</th>\n",
       "    </tr>\n",
       "  </thead>\n",
       "  <tbody>\n",
       "    <tr>\n",
       "      <th>Life_Ladder_Score</th>\n",
       "      <td>1.000000</td>\n",
       "      <td>0.780699</td>\n",
       "      <td>0.708682</td>\n",
       "      <td>0.741766</td>\n",
       "      <td>0.524834</td>\n",
       "      <td>0.181332</td>\n",
       "      <td>-0.418448</td>\n",
       "    </tr>\n",
       "    <tr>\n",
       "      <th>Log_GDP_per_capita</th>\n",
       "      <td>0.780699</td>\n",
       "      <td>1.000000</td>\n",
       "      <td>0.686665</td>\n",
       "      <td>0.843523</td>\n",
       "      <td>0.354864</td>\n",
       "      <td>-0.011561</td>\n",
       "      <td>-0.324624</td>\n",
       "    </tr>\n",
       "    <tr>\n",
       "      <th>Social_support</th>\n",
       "      <td>0.708682</td>\n",
       "      <td>0.686665</td>\n",
       "      <td>1.000000</td>\n",
       "      <td>0.616526</td>\n",
       "      <td>0.409473</td>\n",
       "      <td>0.060565</td>\n",
       "      <td>-0.217382</td>\n",
       "    </tr>\n",
       "    <tr>\n",
       "      <th>Healthy_life_expectancy</th>\n",
       "      <td>0.741766</td>\n",
       "      <td>0.843523</td>\n",
       "      <td>0.616526</td>\n",
       "      <td>1.000000</td>\n",
       "      <td>0.385493</td>\n",
       "      <td>0.020164</td>\n",
       "      <td>-0.315950</td>\n",
       "    </tr>\n",
       "    <tr>\n",
       "      <th>Freedom_to_make_life_choices</th>\n",
       "      <td>0.524834</td>\n",
       "      <td>0.354864</td>\n",
       "      <td>0.409473</td>\n",
       "      <td>0.385493</td>\n",
       "      <td>1.000000</td>\n",
       "      <td>0.317071</td>\n",
       "      <td>-0.471785</td>\n",
       "    </tr>\n",
       "    <tr>\n",
       "      <th>Generosity</th>\n",
       "      <td>0.181332</td>\n",
       "      <td>-0.011561</td>\n",
       "      <td>0.060565</td>\n",
       "      <td>0.020164</td>\n",
       "      <td>0.317071</td>\n",
       "      <td>1.000000</td>\n",
       "      <td>-0.279533</td>\n",
       "    </tr>\n",
       "    <tr>\n",
       "      <th>Perceptions_of_corruption</th>\n",
       "      <td>-0.418448</td>\n",
       "      <td>-0.324624</td>\n",
       "      <td>-0.217382</td>\n",
       "      <td>-0.315950</td>\n",
       "      <td>-0.471785</td>\n",
       "      <td>-0.279533</td>\n",
       "      <td>1.000000</td>\n",
       "    </tr>\n",
       "  </tbody>\n",
       "</table>\n",
       "</div>"
      ],
      "text/plain": [
       "                              Life_Ladder_Score  Log_GDP_per_capita  \\\n",
       "Life_Ladder_Score                      1.000000            0.780699   \n",
       "Log_GDP_per_capita                     0.780699            1.000000   \n",
       "Social_support                         0.708682            0.686665   \n",
       "Healthy_life_expectancy                0.741766            0.843523   \n",
       "Freedom_to_make_life_choices           0.524834            0.354864   \n",
       "Generosity                             0.181332           -0.011561   \n",
       "Perceptions_of_corruption             -0.418448           -0.324624   \n",
       "\n",
       "                              Social_support  Healthy_life_expectancy  \\\n",
       "Life_Ladder_Score                   0.708682                 0.741766   \n",
       "Log_GDP_per_capita                  0.686665                 0.843523   \n",
       "Social_support                      1.000000                 0.616526   \n",
       "Healthy_life_expectancy             0.616526                 1.000000   \n",
       "Freedom_to_make_life_choices        0.409473                 0.385493   \n",
       "Generosity                          0.060565                 0.020164   \n",
       "Perceptions_of_corruption          -0.217382                -0.315950   \n",
       "\n",
       "                              Freedom_to_make_life_choices  Generosity  \\\n",
       "Life_Ladder_Score                                 0.524834    0.181332   \n",
       "Log_GDP_per_capita                                0.354864   -0.011561   \n",
       "Social_support                                    0.409473    0.060565   \n",
       "Healthy_life_expectancy                           0.385493    0.020164   \n",
       "Freedom_to_make_life_choices                      1.000000    0.317071   \n",
       "Generosity                                        0.317071    1.000000   \n",
       "Perceptions_of_corruption                        -0.471785   -0.279533   \n",
       "\n",
       "                              Perceptions_of_corruption  \n",
       "Life_Ladder_Score                             -0.418448  \n",
       "Log_GDP_per_capita                            -0.324624  \n",
       "Social_support                                -0.217382  \n",
       "Healthy_life_expectancy                       -0.315950  \n",
       "Freedom_to_make_life_choices                  -0.471785  \n",
       "Generosity                                    -0.279533  \n",
       "Perceptions_of_corruption                      1.000000  "
      ]
     },
     "execution_count": 30,
     "metadata": {},
     "output_type": "execute_result"
    }
   ],
   "source": [
    "data_panel2021a.corr()"
   ]
  },
  {
   "cell_type": "code",
   "execution_count": 31,
   "metadata": {},
   "outputs": [],
   "source": [
    "from string import ascii_letters"
   ]
  },
  {
   "cell_type": "code",
   "execution_count": 32,
   "metadata": {},
   "outputs": [
    {
     "data": {
      "image/png": "[encoded data removed]",
      "text/plain": [
       "<Figure size 792x648 with 2 Axes>"
      ]
     },
     "metadata": {},
     "output_type": "display_data"
    }
   ],
   "source": [
    "sns.set_theme(style=\"white\")\n",
    "\n",
    "\n",
    "# Compute the correlation matrix\n",
    "corr = data_panel2021a.corr()\n",
    "\n",
    "# Generate a mask for the upper triangle\n",
    "mask = np.triu(np.ones_like(corr, dtype=bool))\n",
    "\n",
    "# Set up the matplotlib figure\n",
    "f, ax = plt.subplots(figsize=(11, 9))\n",
    "\n",
    "# Generate a custom diverging colormap\n",
    "cmap = sns.diverging_palette(230, 20, as_cmap=True)\n",
    "\n",
    "# Draw the heatmap with the mask and correct aspect ratio\n",
    "ax=sns.heatmap(corr, mask=mask, cmap=cmap,annot=True,  fmt= '.3f',ax=ax,\n",
    "            square=True, linewidths=2.5, cbar_kws={\"shrink\": 0.9})\n",
    "\n",
    "ax.set_xticklabels(\n",
    "    ax.get_xticklabels(),\n",
    "    rotation=30,\n",
    "    horizontalalignment='right'\n",
    ");"
   ]
  },
  {
   "cell_type": "code",
   "execution_count": 33,
   "metadata": {},
   "outputs": [],
   "source": [
    "#Xdata_panel2021a\n",
    "df_X = data_panel2021a.drop(columns=[\"Life_Ladder_Score\"])\n",
    "df_Y = data_panel2021a[[\"Life_Ladder_Score\"]]"
   ]
  },
  {
   "cell_type": "markdown",
   "metadata": {},
   "source": [
    "Divide Training set ans Testing set by random split"
   ]
  },
  {
   "cell_type": "code",
   "execution_count": 97,
   "metadata": {},
   "outputs": [],
   "source": [
    "# 75% is for training and 25% is for testing\n",
    "X_train, X_test, Y_train, Y_test = train_test_split(df_X, df_Y, \n",
    "                                                    test_size = 0.25,\n",
    "                                                    random_state=123)"
   ]
  },
  {
   "cell_type": "code",
   "execution_count": 112,
   "metadata": {},
   "outputs": [],
   "source": [
    "# 75% is for training and 25% is for testing\n",
    "X_train, X_test, Y_train, Y_test = train_test_split(df_X, df_Y, \n",
    "                                                    test_size = 0.25,\n",
    "                                                   random_state=1)"
   ]
  },
  {
   "cell_type": "code",
   "execution_count": 116,
   "metadata": {},
   "outputs": [],
   "source": [
    "# 75% is for training and 25% is for testing\n",
    "X_train, X_test, Y_train, Y_test = train_test_split(df_X, df_Y, \n",
    "                                                    test_size = 0.25,\n",
    "                                                   random_state=2)"
   ]
  },
  {
   "cell_type": "code",
   "execution_count": 120,
   "metadata": {},
   "outputs": [],
   "source": [
    "# 75% is for training and 25% is for testing\n",
    "X_train, X_test, Y_train, Y_test = train_test_split(df_X, df_Y, \n",
    "                                                    test_size = 0.25,\n",
    "                                                   random_state=3)"
   ]
  },
  {
   "cell_type": "code",
   "execution_count": 124,
   "metadata": {},
   "outputs": [],
   "source": [
    "# 75% is for training and 25% is for testing\n",
    "X_train, X_test, Y_train, Y_test = train_test_split(df_X, df_Y, \n",
    "                                                    test_size = 0.25,\n",
    "                                                   random_state=4)"
   ]
  },
  {
   "cell_type": "code",
   "execution_count": 125,
   "metadata": {},
   "outputs": [
    {
     "data": {
      "text/plain": [
       "LinearRegression()"
      ]
     },
     "execution_count": 125,
     "metadata": {},
     "output_type": "execute_result"
    }
   ],
   "source": [
    "lr0 = LinearRegression()\n",
    "lr0.fit(X_train, Y_train)"
   ]
  },
  {
   "cell_type": "code",
   "execution_count": 126,
   "metadata": {},
   "outputs": [
    {
     "name": "stdout",
     "output_type": "stream",
     "text": [
      "w0: [-0.06918023]\n",
      "w1,w2,w3,w4,w5,w6: [[ 0.33902993  0.2924252   0.19051145  0.1593369   0.11274194 -0.08095925]]\n"
     ]
    }
   ],
   "source": [
    "print('w0:',lr0.intercept_)\n",
    "print('w1,w2,w3,w4,w5,w6:',lr0.coef_)"
   ]
  },
  {
   "cell_type": "code",
   "execution_count": 127,
   "metadata": {},
   "outputs": [
    {
     "name": "stdout",
     "output_type": "stream",
     "text": [
      "Test MAE: 0.07904954634141285\n",
      "Test MSE: 0.010341349564091632\n",
      "Test R2: 0.7419565526714338\n"
     ]
    },
    {
     "data": {
      "text/plain": [
       "Text(0.5, 1.0, 'LinearRegression')"
      ]
     },
     "execution_count": 127,
     "metadata": {},
     "output_type": "execute_result"
    },
    {
     "data": {
      "image/png": "[encoded data removed]",
      "text/plain": [
       "<Figure size 432x288 with 1 Axes>"
      ]
     },
     "metadata": {},
     "output_type": "display_data"
    }
   ],
   "source": [
    "lr0_pred = lr0.predict(X_test)\n",
    "from sklearn import metrics\n",
    "print('Test MAE:',metrics.mean_absolute_error(Y_test, lr0_pred))\n",
    "print('Test MSE:',metrics.mean_squared_error(Y_test, lr0_pred))\n",
    "print(\"Test R2:\",metrics.r2_score(Y_test,lr0_pred))\n",
    "plt.scatter(Y_test,lr0_pred,color='r')\n",
    "plt.xlabel('y in test')\n",
    "plt.ylabel('prediction')\n",
    "plt.title('LinearRegression')"
   ]
  },
  {
   "cell_type": "code",
   "execution_count": 101,
   "metadata": {},
   "outputs": [
    {
     "name": "stdout",
     "output_type": "stream",
     "text": [
      "                            OLS Regression Results                            \n",
      "==============================================================================\n",
      "Dep. Variable:      Life_Ladder_Score   R-squared:                       0.748\n",
      "Model:                            OLS   Adj. R-squared:                  0.747\n",
      "Method:                 Least Squares   F-statistic:                     776.6\n",
      "Date:                Sat, 01 May 2021   Prob (F-statistic):               0.00\n",
      "Time:                        15:39:47   Log-Likelihood:                 1408.4\n",
      "No. Observations:                1573   AIC:                            -2803.\n",
      "Df Residuals:                    1566   BIC:                            -2765.\n",
      "Df Model:                           6                                         \n",
      "Covariance Type:            nonrobust                                         \n",
      "================================================================================================\n",
      "                                   coef    std err          t      P>|t|      [0.025      0.975]\n",
      "------------------------------------------------------------------------------------------------\n",
      "const                           -0.0813      0.023     -3.575      0.000      -0.126      -0.037\n",
      "Log_GDP_per_capita               0.3341      0.022     14.870      0.000       0.290       0.378\n",
      "Social_support                   0.3109      0.021     14.801      0.000       0.270       0.352\n",
      "Healthy_life_expectancy          0.1905      0.029      6.614      0.000       0.134       0.247\n",
      "Freedom_to_make_life_choices     0.1544      0.016      9.377      0.000       0.122       0.187\n",
      "Generosity                       0.1162      0.018      6.598      0.000       0.082       0.151\n",
      "Perceptions_of_corruption       -0.0803      0.015     -5.224      0.000      -0.110      -0.050\n",
      "==============================================================================\n",
      "Omnibus:                       28.016   Durbin-Watson:                   2.018\n",
      "Prob(Omnibus):                  0.000   Jarque-Bera (JB):               34.240\n",
      "Skew:                          -0.245   Prob(JB):                     3.67e-08\n",
      "Kurtosis:                       3.532   Cond. No.                         26.8\n",
      "==============================================================================\n",
      "\n",
      "Notes:\n",
      "[1] Standard Errors assume that the covariance matrix of the errors is correctly specified.\n"
     ]
    }
   ],
   "source": [
    "# first artificially add intercept to X, as advised in the docs:\n",
    "\n",
    "X2 = sm.add_constant(X_train)\n",
    "est = sm.OLS(Y_train, X2)\n",
    "est2 =est.fit()\n",
    "print(est2.summary())"
   ]
  },
  {
   "cell_type": "code",
   "execution_count": 167,
   "metadata": {},
   "outputs": [],
   "source": [
    "# 75% is for training and 25% is for testing\n",
    "X_train, X_test, Y_train, Y_test = train_test_split(df_X, df_Y, \n",
    "                                                    test_size = 0.25,\n",
    "                                                   random_state=1)"
   ]
  },
  {
   "cell_type": "code",
   "execution_count": 161,
   "metadata": {},
   "outputs": [
    {
     "name": "stdout",
     "output_type": "stream",
     "text": [
      "Test MAE: 0.057647548175896866\n",
      "Test MSE: 0.005586501721427514\n",
      "Test R2: 0.8606023175437694\n"
     ]
    }
   ],
   "source": [
    "#Random Forest\n",
    "rfg0 = RandomForestRegressor()\n",
    "rfg0.fit(X_train,Y_train)\n",
    "rfg0_pred = rfg0.predict(X_test)\n",
    "print('Test MAE:',metrics.mean_absolute_error(Y_test, rfg0_pred))\n",
    "print('Test MSE:',metrics.mean_squared_error(Y_test, rfg0_pred))\n",
    "print(\"Test R2:\",metrics.r2_score(Y_test,rfg0_pred))"
   ]
  },
  {
   "cell_type": "code",
   "execution_count": 103,
   "metadata": {},
   "outputs": [
    {
     "data": {
      "text/plain": [
       "Text(0.5, 1.0, 'RandomForestRegressor')"
      ]
     },
     "execution_count": 103,
     "metadata": {},
     "output_type": "execute_result"
    },
    {
     "data": {
      "image/png": "[encoded data removed]",
      "text/plain": [
       "<Figure size 432x288 with 1 Axes>"
      ]
     },
     "metadata": {},
     "output_type": "display_data"
    }
   ],
   "source": [
    "plt.scatter(Y_test,rfg0_pred, color='c')\n",
    "plt.xlabel('y in test')\n",
    "plt.ylabel('prediction')\n",
    "plt.title('RandomForestRegressor')"
   ]
  },
  {
   "cell_type": "code",
   "execution_count": 176,
   "metadata": {},
   "outputs": [
    {
     "data": {
      "text/plain": [
       "Text(0.5, 0, 'Random Forest Feature Importance')"
      ]
     },
     "execution_count": 176,
     "metadata": {},
     "output_type": "execute_result"
    },
    {
     "data": {
      "image/png": "[encoded data removed]",
      "text/plain": [
       "<Figure size 432x288 with 1 Axes>"
      ]
     },
     "metadata": {},
     "output_type": "display_data"
    }
   ],
   "source": [
    "rfg0.feature_importances_\n",
    "sorted_idx = rfg0.feature_importances_.argsort()\n",
    "plt.barh(X_train.columns[sorted_idx], rfg0.feature_importances_[sorted_idx],color=\"c\")\n",
    "plt.xlabel(\"Random Forest Feature Importance\")"
   ]
  },
  {
   "cell_type": "code",
   "execution_count": 168,
   "metadata": {},
   "outputs": [
    {
     "name": "stdout",
     "output_type": "stream",
     "text": [
      "Test MAE: 0.08202254395734197\n",
      "Test MSE: 0.01334699947793963\n",
      "Test R2: 0.6520307745619187\n"
     ]
    },
    {
     "data": {
      "text/plain": [
       "Text(0.5, 1.0, 'DecisionTreeRegressor')"
      ]
     },
     "execution_count": 168,
     "metadata": {},
     "output_type": "execute_result"
    },
    {
     "data": {
      "image/png": "[encoded data removed]",
      "text/plain": [
       "<Figure size 432x288 with 1 Axes>"
      ]
     },
     "metadata": {},
     "output_type": "display_data"
    }
   ],
   "source": [
    "#Decision Tree\n",
    "dtr0 = DecisionTreeRegressor()\n",
    "dtr0.fit(X_train,Y_train)\n",
    "dtr0_pred = dtr0.predict(X_test)\n",
    "print('Test MAE:',metrics.mean_absolute_error(Y_test, dtr0_pred))\n",
    "print('Test MSE:',metrics.mean_squared_error(Y_test, dtr0_pred))\n",
    "print(\"Test R2:\",metrics.r2_score(Y_test,dtr0_pred))\n",
    "plt.scatter(Y_test,dtr0_pred)\n",
    "plt.xlabel('y in test')\n",
    "plt.ylabel('prediction')\n",
    "plt.title('DecisionTreeRegressor')"
   ]
  },
  {
   "cell_type": "code",
   "execution_count": 79,
   "metadata": {},
   "outputs": [],
   "source": [
    "from sklearn.svm import SVR\n",
    "from sklearn.metrics import r2_score\n",
    "from sklearn.model_selection import GridSearchCV\n",
    "\n"
   ]
  },
  {
   "cell_type": "code",
   "execution_count": 149,
   "metadata": {},
   "outputs": [],
   "source": [
    "# 75% is for training and 25% is for testing\n",
    "X_train, X_test, Y_train, Y_test = train_test_split(df_X, df_Y, \n",
    "                                                    test_size = 0.25,\n",
    "                                                   random_state=123)"
   ]
  },
  {
   "cell_type": "code",
   "execution_count": 150,
   "metadata": {},
   "outputs": [
    {
     "data": {
      "text/plain": [
       "SVR(C=1.5, epsilon=0.05, gamma=0.1)"
      ]
     },
     "execution_count": 150,
     "metadata": {},
     "output_type": "execute_result"
    }
   ],
   "source": [
    "#SVR Model\n",
    "svr0 = SVR(kernel='rbf', C=1.5,gamma=0.1,epsilon=0.05)\n",
    "svr0.fit(X_train, Y_train)"
   ]
  },
  {
   "cell_type": "code",
   "execution_count": 151,
   "metadata": {},
   "outputs": [
    {
     "data": {
      "text/plain": [
       "array([0.35213053])"
      ]
     },
     "execution_count": 151,
     "metadata": {},
     "output_type": "execute_result"
    }
   ],
   "source": [
    "svr0.intercept_"
   ]
  },
  {
   "cell_type": "code",
   "execution_count": 152,
   "metadata": {},
   "outputs": [
    {
     "name": "stdout",
     "output_type": "stream",
     "text": [
      "Test MAE: 0.0786319996507246\n",
      "Test MSE: 0.01044381639027491\n",
      "Test R2: 0.7310026620558869\n"
     ]
    }
   ],
   "source": [
    "svr0_pred = svr0.predict(X_test)\n",
    "print('Test MAE:',metrics.mean_absolute_error(Y_test, svr0_pred))\n",
    "print('Test MSE:',metrics.mean_squared_error(Y_test, svr0_pred))\n",
    "print(\"Test R2:\",r2_score(Y_test, svr0_pred))\n"
   ]
  },
  {
   "cell_type": "code",
   "execution_count": 153,
   "metadata": {},
   "outputs": [
    {
     "data": {
      "text/plain": [
       "Text(0.5, 1.0, 'SVR')"
      ]
     },
     "execution_count": 153,
     "metadata": {},
     "output_type": "execute_result"
    },
    {
     "data": {
      "image/png": "[encoded data removed]",
      "text/plain": [
       "<Figure size 432x288 with 1 Axes>"
      ]
     },
     "metadata": {},
     "output_type": "display_data"
    }
   ],
   "source": [
    "plt.scatter(Y_test,svr0_pred, color=\"pink\")\n",
    "plt.xlabel('y in test')\n",
    "plt.ylabel('prediction')\n",
    "plt.title('SVR')"
   ]
  },
  {
   "cell_type": "markdown",
   "metadata": {},
   "source": [
    "Divide Training set ans Testing set by years"
   ]
  },
  {
   "cell_type": "code",
   "execution_count": 55,
   "metadata": {},
   "outputs": [],
   "source": [
    "df_test=data_panel2021[(data_panel2021['year']> 2017)  ]"
   ]
  },
  {
   "cell_type": "code",
   "execution_count": 56,
   "metadata": {},
   "outputs": [
    {
     "name": "stdout",
     "output_type": "stream",
     "text": [
      "<class 'pandas.core.frame.DataFrame'>\n",
      "Int64Index: 530 entries, 10 to 2097\n",
      "Data columns (total 10 columns):\n",
      " #   Column                        Non-Null Count  Dtype  \n",
      "---  ------                        --------------  -----  \n",
      " 0   Country                       530 non-null    object \n",
      " 1   Region                        530 non-null    object \n",
      " 2   year                          530 non-null    int64  \n",
      " 3   Life_Ladder_Score             530 non-null    float64\n",
      " 4   Log_GDP_per_capita            530 non-null    float64\n",
      " 5   Social_support                530 non-null    float64\n",
      " 6   Healthy_life_expectancy       530 non-null    float64\n",
      " 7   Freedom_to_make_life_choices  530 non-null    float64\n",
      " 8   Generosity                    530 non-null    float64\n",
      " 9   Perceptions_of_corruption     530 non-null    float64\n",
      "dtypes: float64(7), int64(1), object(2)\n",
      "memory usage: 45.5+ KB\n"
     ]
    }
   ],
   "source": [
    "df_test.info()"
   ]
  },
  {
   "cell_type": "code",
   "execution_count": 57,
   "metadata": {},
   "outputs": [],
   "source": [
    "df_train = data_panel2021[(data_panel2021.year != 2018) & (data_panel2021.year != 2019) & (data_panel2021.year != 2020)& (data_panel2021.year != 2020)& (data_panel2021.year != 2021)]"
   ]
  },
  {
   "cell_type": "code",
   "execution_count": 58,
   "metadata": {},
   "outputs": [
    {
     "data": {
      "text/html": [
       "<div>\n",
       "<style scoped>\n",
       "    .dataframe tbody tr th:only-of-type {\n",
       "        vertical-align: middle;\n",
       "    }\n",
       "\n",
       "    .dataframe tbody tr th {\n",
       "        vertical-align: top;\n",
       "    }\n",
       "\n",
       "    .dataframe thead th {\n",
       "        text-align: right;\n",
       "    }\n",
       "</style>\n",
       "<table border=\"1\" class=\"dataframe\">\n",
       "  <thead>\n",
       "    <tr style=\"text-align: right;\">\n",
       "      <th></th>\n",
       "      <th>Country</th>\n",
       "      <th>Region</th>\n",
       "      <th>year</th>\n",
       "      <th>Life_Ladder_Score</th>\n",
       "      <th>Log_GDP_per_capita</th>\n",
       "      <th>Social_support</th>\n",
       "      <th>Healthy_life_expectancy</th>\n",
       "      <th>Freedom_to_make_life_choices</th>\n",
       "      <th>Generosity</th>\n",
       "      <th>Perceptions_of_corruption</th>\n",
       "    </tr>\n",
       "  </thead>\n",
       "  <tbody>\n",
       "    <tr>\n",
       "      <th>0</th>\n",
       "      <td>Afghanistan</td>\n",
       "      <td>South Asia</td>\n",
       "      <td>2008</td>\n",
       "      <td>0.239015</td>\n",
       "      <td>0.146619</td>\n",
       "      <td>0.230990</td>\n",
       "      <td>0.412946</td>\n",
       "      <td>0.632737</td>\n",
       "      <td>0.486931</td>\n",
       "      <td>0.893460</td>\n",
       "    </tr>\n",
       "    <tr>\n",
       "      <th>1</th>\n",
       "      <td>Afghanistan</td>\n",
       "      <td>South Asia</td>\n",
       "      <td>2009</td>\n",
       "      <td>0.359142</td>\n",
       "      <td>0.180531</td>\n",
       "      <td>0.375897</td>\n",
       "      <td>0.421875</td>\n",
       "      <td>0.579092</td>\n",
       "      <td>0.508228</td>\n",
       "      <td>0.859705</td>\n",
       "    </tr>\n",
       "    <tr>\n",
       "      <th>2</th>\n",
       "      <td>Afghanistan</td>\n",
       "      <td>South Asia</td>\n",
       "      <td>2010</td>\n",
       "      <td>0.422218</td>\n",
       "      <td>0.201875</td>\n",
       "      <td>0.357245</td>\n",
       "      <td>0.430804</td>\n",
       "      <td>0.470426</td>\n",
       "      <td>0.441433</td>\n",
       "      <td>0.708861</td>\n",
       "    </tr>\n",
       "    <tr>\n",
       "      <th>3</th>\n",
       "      <td>Afghanistan</td>\n",
       "      <td>South Asia</td>\n",
       "      <td>2011</td>\n",
       "      <td>0.258150</td>\n",
       "      <td>0.196489</td>\n",
       "      <td>0.331420</td>\n",
       "      <td>0.437946</td>\n",
       "      <td>0.327373</td>\n",
       "      <td>0.481123</td>\n",
       "      <td>0.734177</td>\n",
       "    </tr>\n",
       "    <tr>\n",
       "      <th>4</th>\n",
       "      <td>Afghanistan</td>\n",
       "      <td>South Asia</td>\n",
       "      <td>2012</td>\n",
       "      <td>0.249468</td>\n",
       "      <td>0.213445</td>\n",
       "      <td>0.331420</td>\n",
       "      <td>0.445089</td>\n",
       "      <td>0.375516</td>\n",
       "      <td>0.552759</td>\n",
       "      <td>0.781646</td>\n",
       "    </tr>\n",
       "    <tr>\n",
       "      <th>...</th>\n",
       "      <td>...</td>\n",
       "      <td>...</td>\n",
       "      <td>...</td>\n",
       "      <td>...</td>\n",
       "      <td>...</td>\n",
       "      <td>...</td>\n",
       "      <td>...</td>\n",
       "      <td>...</td>\n",
       "      <td>...</td>\n",
       "      <td>...</td>\n",
       "    </tr>\n",
       "    <tr>\n",
       "      <th>2089</th>\n",
       "      <td>Zimbabwe</td>\n",
       "      <td>Sub-Saharan Africa</td>\n",
       "      <td>2013</td>\n",
       "      <td>0.410170</td>\n",
       "      <td>0.269300</td>\n",
       "      <td>0.730273</td>\n",
       "      <td>0.416518</td>\n",
       "      <td>0.437414</td>\n",
       "      <td>0.223621</td>\n",
       "      <td>0.839662</td>\n",
       "    </tr>\n",
       "    <tr>\n",
       "      <th>2090</th>\n",
       "      <td>Zimbabwe</td>\n",
       "      <td>Sub-Saharan Africa</td>\n",
       "      <td>2014</td>\n",
       "      <td>0.320517</td>\n",
       "      <td>0.270497</td>\n",
       "      <td>0.682927</td>\n",
       "      <td>0.448214</td>\n",
       "      <td>0.528198</td>\n",
       "      <td>0.252662</td>\n",
       "      <td>0.828059</td>\n",
       "    </tr>\n",
       "    <tr>\n",
       "      <th>2091</th>\n",
       "      <td>Zimbabwe</td>\n",
       "      <td>Sub-Saharan Africa</td>\n",
       "      <td>2015</td>\n",
       "      <td>0.235294</td>\n",
       "      <td>0.270696</td>\n",
       "      <td>0.639885</td>\n",
       "      <td>0.479911</td>\n",
       "      <td>0.562586</td>\n",
       "      <td>0.205227</td>\n",
       "      <td>0.817511</td>\n",
       "    </tr>\n",
       "    <tr>\n",
       "      <th>2092</th>\n",
       "      <td>Zimbabwe</td>\n",
       "      <td>Sub-Saharan Africa</td>\n",
       "      <td>2016</td>\n",
       "      <td>0.240964</td>\n",
       "      <td>0.269100</td>\n",
       "      <td>0.685796</td>\n",
       "      <td>0.493304</td>\n",
       "      <td>0.653370</td>\n",
       "      <td>0.232333</td>\n",
       "      <td>0.726793</td>\n",
       "    </tr>\n",
       "    <tr>\n",
       "      <th>2093</th>\n",
       "      <td>Zimbabwe</td>\n",
       "      <td>Sub-Saharan Africa</td>\n",
       "      <td>2017</td>\n",
       "      <td>0.223777</td>\n",
       "      <td>0.275484</td>\n",
       "      <td>0.665710</td>\n",
       "      <td>0.506696</td>\n",
       "      <td>0.680880</td>\n",
       "      <td>0.229429</td>\n",
       "      <td>0.755274</td>\n",
       "    </tr>\n",
       "  </tbody>\n",
       "</table>\n",
       "<p>1568 rows × 10 columns</p>\n",
       "</div>"
      ],
      "text/plain": [
       "          Country              Region  year  Life_Ladder_Score  \\\n",
       "0     Afghanistan          South Asia  2008           0.239015   \n",
       "1     Afghanistan          South Asia  2009           0.359142   \n",
       "2     Afghanistan          South Asia  2010           0.422218   \n",
       "3     Afghanistan          South Asia  2011           0.258150   \n",
       "4     Afghanistan          South Asia  2012           0.249468   \n",
       "...           ...                 ...   ...                ...   \n",
       "2089     Zimbabwe  Sub-Saharan Africa  2013           0.410170   \n",
       "2090     Zimbabwe  Sub-Saharan Africa  2014           0.320517   \n",
       "2091     Zimbabwe  Sub-Saharan Africa  2015           0.235294   \n",
       "2092     Zimbabwe  Sub-Saharan Africa  2016           0.240964   \n",
       "2093     Zimbabwe  Sub-Saharan Africa  2017           0.223777   \n",
       "\n",
       "      Log_GDP_per_capita  Social_support  Healthy_life_expectancy  \\\n",
       "0               0.146619        0.230990                 0.412946   \n",
       "1               0.180531        0.375897                 0.421875   \n",
       "2               0.201875        0.357245                 0.430804   \n",
       "3               0.196489        0.331420                 0.437946   \n",
       "4               0.213445        0.331420                 0.445089   \n",
       "...                  ...             ...                      ...   \n",
       "2089            0.269300        0.730273                 0.416518   \n",
       "2090            0.270497        0.682927                 0.448214   \n",
       "2091            0.270696        0.639885                 0.479911   \n",
       "2092            0.269100        0.685796                 0.493304   \n",
       "2093            0.275484        0.665710                 0.506696   \n",
       "\n",
       "      Freedom_to_make_life_choices  Generosity  Perceptions_of_corruption  \n",
       "0                         0.632737    0.486931                   0.893460  \n",
       "1                         0.579092    0.508228                   0.859705  \n",
       "2                         0.470426    0.441433                   0.708861  \n",
       "3                         0.327373    0.481123                   0.734177  \n",
       "4                         0.375516    0.552759                   0.781646  \n",
       "...                            ...         ...                        ...  \n",
       "2089                      0.437414    0.223621                   0.839662  \n",
       "2090                      0.528198    0.252662                   0.828059  \n",
       "2091                      0.562586    0.205227                   0.817511  \n",
       "2092                      0.653370    0.232333                   0.726793  \n",
       "2093                      0.680880    0.229429                   0.755274  \n",
       "\n",
       "[1568 rows x 10 columns]"
      ]
     },
     "execution_count": 58,
     "metadata": {},
     "output_type": "execute_result"
    }
   ],
   "source": [
    "df_train"
   ]
  },
  {
   "cell_type": "code",
   "execution_count": 59,
   "metadata": {},
   "outputs": [
    {
     "name": "stdout",
     "output_type": "stream",
     "text": [
      "<class 'pandas.core.frame.DataFrame'>\n",
      "Int64Index: 1568 entries, 0 to 2093\n",
      "Data columns (total 10 columns):\n",
      " #   Column                        Non-Null Count  Dtype  \n",
      "---  ------                        --------------  -----  \n",
      " 0   Country                       1568 non-null   object \n",
      " 1   Region                        1568 non-null   object \n",
      " 2   year                          1568 non-null   int64  \n",
      " 3   Life_Ladder_Score             1568 non-null   float64\n",
      " 4   Log_GDP_per_capita            1568 non-null   float64\n",
      " 5   Social_support                1568 non-null   float64\n",
      " 6   Healthy_life_expectancy       1568 non-null   float64\n",
      " 7   Freedom_to_make_life_choices  1568 non-null   float64\n",
      " 8   Generosity                    1568 non-null   float64\n",
      " 9   Perceptions_of_corruption     1568 non-null   float64\n",
      "dtypes: float64(7), int64(1), object(2)\n",
      "memory usage: 134.8+ KB\n"
     ]
    }
   ],
   "source": [
    "df_train.info()"
   ]
  },
  {
   "cell_type": "code",
   "execution_count": 61,
   "metadata": {},
   "outputs": [],
   "source": [
    "Xtrain = df_train.drop(columns=[\"Country\",\"Region\",\"year\",\"Life_Ladder_Score\"])\n",
    "Ytrain = df_train[[\"Life_Ladder_Score\"]]"
   ]
  },
  {
   "cell_type": "code",
   "execution_count": 62,
   "metadata": {},
   "outputs": [
    {
     "name": "stdout",
     "output_type": "stream",
     "text": [
      "<class 'pandas.core.frame.DataFrame'>\n",
      "Int64Index: 1568 entries, 0 to 2093\n",
      "Data columns (total 6 columns):\n",
      " #   Column                        Non-Null Count  Dtype  \n",
      "---  ------                        --------------  -----  \n",
      " 0   Log_GDP_per_capita            1568 non-null   float64\n",
      " 1   Social_support                1568 non-null   float64\n",
      " 2   Healthy_life_expectancy       1568 non-null   float64\n",
      " 3   Freedom_to_make_life_choices  1568 non-null   float64\n",
      " 4   Generosity                    1568 non-null   float64\n",
      " 5   Perceptions_of_corruption     1568 non-null   float64\n",
      "dtypes: float64(6)\n",
      "memory usage: 85.8 KB\n"
     ]
    }
   ],
   "source": [
    "Xtrain.info()"
   ]
  },
  {
   "cell_type": "code",
   "execution_count": 63,
   "metadata": {},
   "outputs": [
    {
     "name": "stdout",
     "output_type": "stream",
     "text": [
      "<class 'pandas.core.frame.DataFrame'>\n",
      "Int64Index: 1568 entries, 0 to 2093\n",
      "Data columns (total 1 columns):\n",
      " #   Column             Non-Null Count  Dtype  \n",
      "---  ------             --------------  -----  \n",
      " 0   Life_Ladder_Score  1568 non-null   float64\n",
      "dtypes: float64(1)\n",
      "memory usage: 24.5 KB\n"
     ]
    }
   ],
   "source": [
    "Ytrain.info()"
   ]
  },
  {
   "cell_type": "code",
   "execution_count": 64,
   "metadata": {},
   "outputs": [],
   "source": [
    "Xtest = df_test.drop(columns=[\"Country\",\"Region\",\"year\",\"Life_Ladder_Score\"])\n",
    "Ytest = df_test[[\"Life_Ladder_Score\"]]"
   ]
  },
  {
   "cell_type": "code",
   "execution_count": 65,
   "metadata": {},
   "outputs": [
    {
     "name": "stdout",
     "output_type": "stream",
     "text": [
      "<class 'pandas.core.frame.DataFrame'>\n",
      "Int64Index: 530 entries, 10 to 2097\n",
      "Data columns (total 6 columns):\n",
      " #   Column                        Non-Null Count  Dtype  \n",
      "---  ------                        --------------  -----  \n",
      " 0   Log_GDP_per_capita            530 non-null    float64\n",
      " 1   Social_support                530 non-null    float64\n",
      " 2   Healthy_life_expectancy       530 non-null    float64\n",
      " 3   Freedom_to_make_life_choices  530 non-null    float64\n",
      " 4   Generosity                    530 non-null    float64\n",
      " 5   Perceptions_of_corruption     530 non-null    float64\n",
      "dtypes: float64(6)\n",
      "memory usage: 29.0 KB\n"
     ]
    }
   ],
   "source": [
    "Xtest.info()"
   ]
  },
  {
   "cell_type": "code",
   "execution_count": 66,
   "metadata": {},
   "outputs": [
    {
     "name": "stdout",
     "output_type": "stream",
     "text": [
      "<class 'pandas.core.frame.DataFrame'>\n",
      "Int64Index: 530 entries, 10 to 2097\n",
      "Data columns (total 1 columns):\n",
      " #   Column             Non-Null Count  Dtype  \n",
      "---  ------             --------------  -----  \n",
      " 0   Life_Ladder_Score  530 non-null    float64\n",
      "dtypes: float64(1)\n",
      "memory usage: 8.3 KB\n"
     ]
    }
   ],
   "source": [
    "Ytest.info()"
   ]
  },
  {
   "cell_type": "code",
   "execution_count": 67,
   "metadata": {},
   "outputs": [
    {
     "data": {
      "text/plain": [
       "LinearRegression()"
      ]
     },
     "execution_count": 67,
     "metadata": {},
     "output_type": "execute_result"
    }
   ],
   "source": [
    "lr = LinearRegression()\n",
    "lr.fit(Xtrain, Ytrain)"
   ]
  },
  {
   "cell_type": "code",
   "execution_count": 68,
   "metadata": {
    "scrolled": true
   },
   "outputs": [
    {
     "name": "stdout",
     "output_type": "stream",
     "text": [
      "Using Linear Regression, MAE_train is 0.08\n",
      "Using Linear Regression, RMSE_train is 0.10\n",
      "Train R2: 0.7410019511936646\n"
     ]
    }
   ],
   "source": [
    "lr_predtrain = lr.predict(Xtrain)\n",
    "from sklearn import metrics\n",
    "mae_train = np.mean(abs(lr_predtrain - Ytrain))\n",
    "rmse_train = np.sqrt(np.mean((lr_predtrain - Ytrain) ** 2))\n",
    "print('Using Linear Regression, MAE_train is %0.2f' %  mae_train)  \n",
    "print('Using Linear Regression, RMSE_train is %0.2f' %  rmse_train) \n",
    "print(\"Train R2:\",metrics.r2_score(Ytrain,lr_predtrain))"
   ]
  },
  {
   "cell_type": "code",
   "execution_count": 69,
   "metadata": {},
   "outputs": [
    {
     "name": "stdout",
     "output_type": "stream",
     "text": [
      "                            OLS Regression Results                            \n",
      "==============================================================================\n",
      "Dep. Variable:      Life_Ladder_Score   R-squared:                       0.741\n",
      "Model:                            OLS   Adj. R-squared:                  0.740\n",
      "Method:                 Least Squares   F-statistic:                     744.3\n",
      "Date:                Sat, 01 May 2021   Prob (F-statistic):               0.00\n",
      "Time:                        14:40:50   Log-Likelihood:                 1366.6\n",
      "No. Observations:                1568   AIC:                            -2719.\n",
      "Df Residuals:                    1561   BIC:                            -2682.\n",
      "Df Model:                           6                                         \n",
      "Covariance Type:            nonrobust                                         \n",
      "================================================================================================\n",
      "                                   coef    std err          t      P>|t|      [0.025      0.975]\n",
      "------------------------------------------------------------------------------------------------\n",
      "const                           -0.0679      0.023     -2.946      0.003      -0.113      -0.023\n",
      "Log_GDP_per_capita               0.3298      0.022     14.724      0.000       0.286       0.374\n",
      "Social_support                   0.2915      0.021     13.978      0.000       0.251       0.332\n",
      "Healthy_life_expectancy          0.2163      0.028      7.637      0.000       0.161       0.272\n",
      "Freedom_to_make_life_choices     0.1360      0.016      8.269      0.000       0.104       0.168\n",
      "Generosity                       0.1295      0.018      7.214      0.000       0.094       0.165\n",
      "Perceptions_of_corruption       -0.0852      0.016     -5.310      0.000      -0.117      -0.054\n",
      "==============================================================================\n",
      "Omnibus:                       16.076   Durbin-Watson:                   0.617\n",
      "Prob(Omnibus):                  0.000   Jarque-Bera (JB):               20.089\n",
      "Skew:                          -0.150   Prob(JB):                     4.34e-05\n",
      "Kurtosis:                       3.467   Cond. No.                         25.8\n",
      "==============================================================================\n",
      "\n",
      "Notes:\n",
      "[1] Standard Errors assume that the covariance matrix of the errors is correctly specified.\n"
     ]
    }
   ],
   "source": [
    "X1 = sm.add_constant(Xtrain)\n",
    "est1 = sm.OLS(Ytrain, X1)\n",
    "est3 = est1.fit()\n",
    "print(est3.summary())"
   ]
  },
  {
   "cell_type": "code",
   "execution_count": 70,
   "metadata": {
    "scrolled": true
   },
   "outputs": [
    {
     "name": "stdout",
     "output_type": "stream",
     "text": [
      "Test MAE: 0.07728162592769393\n",
      "Test MSE: 0.010012164778211718\n",
      "Test R2: 0.7232039804738788\n"
     ]
    }
   ],
   "source": [
    "lr_pred = lr.predict(Xtest)\n",
    "from sklearn import metrics\n",
    "print('Test MAE:',metrics.mean_absolute_error(Ytest, lr_pred))\n",
    "print('Test MSE:',metrics.mean_squared_error(Ytest, lr_pred))\n",
    "print(\"Test R2:\",metrics.r2_score(Ytest,lr_pred))"
   ]
  },
  {
   "cell_type": "code",
   "execution_count": 71,
   "metadata": {},
   "outputs": [
    {
     "data": {
      "text/plain": [
       "Text(0.5, 1.0, 'LinearRegression')"
      ]
     },
     "execution_count": 71,
     "metadata": {},
     "output_type": "execute_result"
    },
    {
     "data": {
      "image/png": "[encoded data removed]",
      "text/plain": [
       "<Figure size 432x288 with 1 Axes>"
      ]
     },
     "metadata": {},
     "output_type": "display_data"
    }
   ],
   "source": [
    "plt.scatter(Ytest,lr_pred,color='r')\n",
    "plt.xlabel('y in test')\n",
    "plt.ylabel('prediction')\n",
    "plt.title('LinearRegression')"
   ]
  },
  {
   "cell_type": "code",
   "execution_count": 72,
   "metadata": {},
   "outputs": [
    {
     "name": "stdout",
     "output_type": "stream",
     "text": [
      "w0: [-0.06787601]\n",
      "w1,w2,w3,w4,w5,w6: [[ 0.32979439  0.29145527  0.21630359  0.13604524  0.12952117 -0.08518486]]\n"
     ]
    }
   ],
   "source": [
    "print('w0:',lr.intercept_)\n",
    "print('w1,w2,w3,w4,w5,w6:',lr.coef_)"
   ]
  },
  {
   "cell_type": "code",
   "execution_count": 76,
   "metadata": {},
   "outputs": [
    {
     "name": "stdout",
     "output_type": "stream",
     "text": [
      "Test MAE: 0.06832452228447641\n",
      "Test MSE: 0.007882627172849498\n",
      "Test R2: 0.7820771158699517\n"
     ]
    },
    {
     "data": {
      "text/plain": [
       "Text(0.5, 1.0, 'RandomForestRegressor')"
      ]
     },
     "execution_count": 76,
     "metadata": {},
     "output_type": "execute_result"
    },
    {
     "data": {
      "image/png": "[encoded data removed]",
      "text/plain": [
       "<Figure size 432x288 with 1 Axes>"
      ]
     },
     "metadata": {},
     "output_type": "display_data"
    }
   ],
   "source": [
    "#Random Forest\n",
    "rfg = RandomForestRegressor()\n",
    "rfg.fit(Xtrain,Ytrain)\n",
    "rfg_pred = rfg.predict(Xtest)\n",
    "print('Test MAE:',metrics.mean_absolute_error(Ytest, rfg_pred))\n",
    "print('Test MSE:',metrics.mean_squared_error(Ytest, rfg_pred))\n",
    "print(\"Test R2:\",metrics.r2_score(Ytest,rfg_pred))\n",
    "plt.xlabel('y in test')\n",
    "plt.ylabel('prediction')\n",
    "plt.title('RandomForestRegressor')\n",
    "plt.scatter(Ytest,rfg_pred, color='c')\n",
    "plt.xlabel('y in test')\n",
    "plt.ylabel('prediction')\n",
    "plt.title('RandomForestRegressor')"
   ]
  },
  {
   "cell_type": "code",
   "execution_count": 77,
   "metadata": {},
   "outputs": [
    {
     "name": "stdout",
     "output_type": "stream",
     "text": [
      "Test MAE: 0.09066599360817296\n",
      "Test MSE: 0.014121619063796706\n",
      "Test R2: 0.6095941254753026\n"
     ]
    },
    {
     "data": {
      "text/plain": [
       "Text(0.5, 1.0, 'DecisionTreeRegressor')"
      ]
     },
     "execution_count": 77,
     "metadata": {},
     "output_type": "execute_result"
    },
    {
     "data": {
      "image/png": "[encoded data removed]",
      "text/plain": [
       "<Figure size 432x288 with 1 Axes>"
      ]
     },
     "metadata": {},
     "output_type": "display_data"
    }
   ],
   "source": [
    "#Decision Tree\n",
    "dtr = DecisionTreeRegressor()\n",
    "dtr.fit(Xtrain,Ytrain)\n",
    "dtr_pred = dtr.predict(Xtest)\n",
    "print('Test MAE:',metrics.mean_absolute_error(Ytest, dtr_pred))\n",
    "print('Test MSE:',metrics.mean_squared_error(Ytest, dtr_pred))\n",
    "print(\"Test R2:\",metrics.r2_score(Ytest,dtr_pred))\n",
    "plt.scatter(Ytest,dtr_pred)\n",
    "plt.xlabel('y in test')\n",
    "plt.ylabel('prediction')\n",
    "plt.title('DecisionTreeRegressor')"
   ]
  },
  {
   "cell_type": "code",
   "execution_count": 93,
   "metadata": {},
   "outputs": [],
   "source": [
    "gsc = GridSearchCV(svr,\n",
    "        param_grid={'kernel': ['linear', 'rbf'],\n",
    "            'C': [0.1, 1,1.25,1.5, 5, 10],\n",
    "            'epsilon': [ 0.01, 0.05, 0.1, 0.5, 1,5],\n",
    "                   'gamma': [0.001, 0.005, 0.1, 1, 3, 5]},\n",
    "        cv=5, scoring='r2', verbose=0, n_jobs=-1)"
   ]
  },
  {
   "cell_type": "code",
   "execution_count": 84,
   "metadata": {},
   "outputs": [],
   "source": [
    "gsc = GridSearchCV(svr,\n",
    "        param_grid={'kernel': ['linear', 'rbf'],\n",
    "            'C': [0.1, 1,1.25],\n",
    "            'epsilon': [  0.05, 0.1, 0.5, 1],\n",
    "                   'gamma': [0.001, 0.005, 0.1, 1]},\n",
    "        cv=5, scoring='r2', verbose=0, n_jobs=-1)"
   ]
  },
  {
   "cell_type": "code",
   "execution_count": 378,
   "metadata": {},
   "outputs": [],
   "source": [
    "gsc = GridSearchCV(\n",
    "        estimator=SVR(kernel='linear'),\n",
    "        param_grid={\n",
    "            'C': [0.1, 1,1.25,1.5,10,100],\n",
    "            'epsilon': [ 0.1]\n",
    "        },\n",
    "        cv=5, scoring='r2', verbose=0, n_jobs=-1)"
   ]
  },
  {
   "cell_type": "code",
   "execution_count": 94,
   "metadata": {},
   "outputs": [
    {
     "data": {
      "text/plain": [
       "{'C': 1.5, 'epsilon': 0.05, 'gamma': 0.1, 'kernel': 'rbf'}"
      ]
     },
     "execution_count": 94,
     "metadata": {},
     "output_type": "execute_result"
    }
   ],
   "source": [
    "grid_result = gsc.fit(Xtrain, Ytrain)\n",
    "best_params = grid_result.best_params_\n",
    "best_params"
   ]
  },
  {
   "cell_type": "code",
   "execution_count": 95,
   "metadata": {},
   "outputs": [],
   "source": [
    "best_svr = SVR(kernel='rbf', C=best_params[\"C\"], epsilon=best_params[\"epsilon\"],gamma=best_params['gamma'])"
   ]
  },
  {
   "cell_type": "code",
   "execution_count": 96,
   "metadata": {},
   "outputs": [
    {
     "name": "stdout",
     "output_type": "stream",
     "text": [
      "Test MAE: 0.07251604573766324\n",
      "Test MSE: 0.00910343283980142\n",
      "Test R2: 0.7483267575096313\n"
     ]
    }
   ],
   "source": [
    "best_svr.fit(Xtrain, Ytrain)\n",
    "best_svr_pred = best_svr.predict(Xtest)\n",
    "print('Test MAE:',metrics.mean_absolute_error(Ytest, best_svr_pred))\n",
    "print('Test MSE:',metrics.mean_squared_error(Ytest, best_svr_pred))\n",
    "print(\"Test R2:\",r2_score(Ytest, best_svr_pred))"
   ]
  },
  {
   "cell_type": "code",
   "execution_count": 80,
   "metadata": {},
   "outputs": [
    {
     "name": "stdout",
     "output_type": "stream",
     "text": [
      "Test MAE: 0.07791537094519008\n",
      "Test MSE: 0.010101293274329874\n",
      "Test R2: 0.7207399366333755\n"
     ]
    }
   ],
   "source": [
    "## SVR Model\n",
    "svr = SVR(kernel='linear', C=1.25)\n",
    "svr.fit(Xtrain, Ytrain)\n",
    "svr_pred = svr.predict(Xtest)\n",
    "print('Test MAE:',metrics.mean_absolute_error(Ytest, svr_pred))\n",
    "print('Test MSE:',metrics.mean_squared_error(Ytest, svr_pred))\n",
    "print(\"Test R2:\",r2_score(Ytest, svr_pred))"
   ]
  },
  {
   "cell_type": "code",
   "execution_count": 81,
   "metadata": {},
   "outputs": [
    {
     "data": {
      "text/plain": [
       "Text(0.5, 1.0, 'SVR')"
      ]
     },
     "execution_count": 81,
     "metadata": {},
     "output_type": "execute_result"
    },
    {
     "data": {
      "image/png": "[encoded data removed]",
      "text/plain": [
       "<Figure size 432x288 with 1 Axes>"
      ]
     },
     "metadata": {},
     "output_type": "display_data"
    }
   ],
   "source": [
    "plt.scatter(Ytest,svr_pred, color=\"pink\")\n",
    "plt.xlabel('y in test')\n",
    "plt.ylabel('prediction')\n",
    "plt.title('SVR')"
   ]
  },
  {
   "cell_type": "code",
   "execution_count": 82,
   "metadata": {},
   "outputs": [
    {
     "data": {
      "text/plain": [
       "Text(0, 0.5, 'r2_score')"
      ]
     },
     "execution_count": 82,
     "metadata": {},
     "output_type": "execute_result"
    },
    {
     "data": {
      "image/png": "[encoded data removed]",
      "text/plain": [
       "<Figure size 432x288 with 1 Axes>"
      ]
     },
     "metadata": {},
     "output_type": "display_data"
    }
   ],
   "source": [
    "y = np.array([r2_score(Ytest,lr_pred),r2_score(Ytest,rfg_pred),r2_score(Ytest,dtr_pred),r2_score(Ytest,svr_pred)])\n",
    "x = ['Linear','RandomForest','DecisionTree',\"SVR\"]\n",
    "\n",
    "plt.bar(x,y)\n",
    "plt.title('comparision under past-current method')\n",
    "plt.xlabel('Regressor')\n",
    "plt.ylabel('r2_score')"
   ]
  },
  {
   "cell_type": "code",
   "execution_count": 83,
   "metadata": {},
   "outputs": [
    {
     "ename": "NameError",
     "evalue": "name 'rfg0_pred' is not defined",
     "output_type": "error",
     "traceback": [
      "\u001b[1;31m---------------------------------------------------------------------------\u001b[0m",
      "\u001b[1;31mNameError\u001b[0m                                 Traceback (most recent call last)",
      "\u001b[1;32m<ipython-input-83-ed9cb6adaca0>\u001b[0m in \u001b[0;36m<module>\u001b[1;34m\u001b[0m\n\u001b[1;32m----> 1\u001b[1;33m \u001b[0my\u001b[0m \u001b[1;33m=\u001b[0m \u001b[0mnp\u001b[0m\u001b[1;33m.\u001b[0m\u001b[0marray\u001b[0m\u001b[1;33m(\u001b[0m\u001b[1;33m[\u001b[0m\u001b[0mr2_score\u001b[0m\u001b[1;33m(\u001b[0m\u001b[0mY_test\u001b[0m\u001b[1;33m,\u001b[0m\u001b[0mlr0_pred\u001b[0m\u001b[1;33m)\u001b[0m\u001b[1;33m,\u001b[0m\u001b[0mr2_score\u001b[0m\u001b[1;33m(\u001b[0m\u001b[0mY_test\u001b[0m\u001b[1;33m,\u001b[0m\u001b[0mrfg0_pred\u001b[0m\u001b[1;33m)\u001b[0m\u001b[1;33m,\u001b[0m\u001b[0mr2_score\u001b[0m\u001b[1;33m(\u001b[0m\u001b[0mY_test\u001b[0m\u001b[1;33m,\u001b[0m\u001b[0mdtr0_pred\u001b[0m\u001b[1;33m)\u001b[0m\u001b[1;33m,\u001b[0m\u001b[0mr2_score\u001b[0m\u001b[1;33m(\u001b[0m\u001b[0mY_test\u001b[0m\u001b[1;33m,\u001b[0m\u001b[0msvr0_pred\u001b[0m\u001b[1;33m)\u001b[0m\u001b[1;33m]\u001b[0m\u001b[1;33m)\u001b[0m\u001b[1;33m\u001b[0m\u001b[1;33m\u001b[0m\u001b[0m\n\u001b[0m\u001b[0;32m      2\u001b[0m \u001b[0mx\u001b[0m \u001b[1;33m=\u001b[0m \u001b[1;33m[\u001b[0m\u001b[1;34m'Linear'\u001b[0m\u001b[1;33m,\u001b[0m\u001b[1;34m'RandomForest'\u001b[0m\u001b[1;33m,\u001b[0m\u001b[1;34m'DecisionTree'\u001b[0m\u001b[1;33m,\u001b[0m\u001b[1;34m\"SVR\"\u001b[0m\u001b[1;33m]\u001b[0m\u001b[1;33m\u001b[0m\u001b[1;33m\u001b[0m\u001b[0m\n\u001b[0;32m      3\u001b[0m \u001b[1;33m\u001b[0m\u001b[0m\n\u001b[0;32m      4\u001b[0m \u001b[0mplt\u001b[0m\u001b[1;33m.\u001b[0m\u001b[0mbar\u001b[0m\u001b[1;33m(\u001b[0m\u001b[0mx\u001b[0m\u001b[1;33m,\u001b[0m\u001b[0my\u001b[0m\u001b[1;33m)\u001b[0m\u001b[1;33m\u001b[0m\u001b[1;33m\u001b[0m\u001b[0m\n\u001b[0;32m      5\u001b[0m \u001b[0mplt\u001b[0m\u001b[1;33m.\u001b[0m\u001b[0mtitle\u001b[0m\u001b[1;33m(\u001b[0m\u001b[1;34m'comparision under random seed'\u001b[0m\u001b[1;33m)\u001b[0m\u001b[1;33m\u001b[0m\u001b[1;33m\u001b[0m\u001b[0m\n",
      "\u001b[1;31mNameError\u001b[0m: name 'rfg0_pred' is not defined"
     ]
    }
   ],
   "source": [
    "y = np.array([r2_score(Y_test,lr0_pred),r2_score(Y_test,rfg0_pred),r2_score(Y_test,dtr0_pred),r2_score(Y_test,svr0_pred)])\n",
    "x = ['Linear','RandomForest','DecisionTree',\"SVR\"]\n",
    "\n",
    "plt.bar(x,y)\n",
    "plt.title('comparision under random seed')\n",
    "plt.xlabel('Regressor')\n",
    "plt.ylabel('r2_score')"
   ]
  }
 ],
 "metadata": {
  "kernelspec": {
   "display_name": "Python 3",
   "language": "python",
   "name": "python3"
  },
  "language_info": {
   "codemirror_mode": {
    "name": "ipython",
    "version": 3
   },
   "file_extension": ".py",
   "mimetype": "text/x-python",
   "name": "python",
   "nbconvert_exporter": "python",
   "pygments_lexer": "ipython3",
   "version": "3.9.2"
  }
 },
 "nbformat": 4,
 "nbformat_minor": 4
}
